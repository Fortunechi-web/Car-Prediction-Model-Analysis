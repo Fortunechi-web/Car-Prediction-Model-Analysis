{
 "cells": [
  {
   "cell_type": "markdown",
   "id": "1fda9a64",
   "metadata": {},
   "source": [
    "### Car Price Regression Model Analysis."
   ]
  },
  {
   "cell_type": "markdown",
   "id": "15ee1d34",
   "metadata": {},
   "source": [
    "### This is a car price data set downloaded from Kaggle. The main goal of this important project is a develop a regression model that can accurately predict car prices."
   ]
  },
  {
   "cell_type": "markdown",
   "id": "d31314b5",
   "metadata": {},
   "source": [
    "### And the end result was satisfying."
   ]
  },
  {
   "cell_type": "markdown",
   "id": "1128804a",
   "metadata": {},
   "source": [
    "### Importing the dependencies"
   ]
  },
  {
   "cell_type": "code",
   "execution_count": 1,
   "id": "49228c5b",
   "metadata": {},
   "outputs": [],
   "source": [
    "import numpy as np\n",
    "import pandas as pd\n",
    "import matplotlib.pyplot as plt\n",
    "import seaborn as sns\n",
    "from sklearn.model_selection import train_test_split\n",
    "from sklearn.linear_model import LinearRegression\n",
    "from sklearn import metrics"
   ]
  },
  {
   "cell_type": "markdown",
   "id": "4ee4e50b",
   "metadata": {},
   "source": [
    "### Data collection and Analysis"
   ]
  },
  {
   "cell_type": "code",
   "execution_count": 2,
   "id": "ae2b9577",
   "metadata": {},
   "outputs": [],
   "source": [
    "# Loading the dataset to pandas dataframe\n",
    "\n",
    "Car_data = pd.read_csv(\"C:\\\\Users\\\\LENOVO USER\\\\Downloads\\\\automobile_data.csv\")"
   ]
  },
  {
   "cell_type": "code",
   "execution_count": 3,
   "id": "05f38954",
   "metadata": {},
   "outputs": [
    {
     "data": {
      "text/html": [
       "<div>\n",
       "<style scoped>\n",
       "    .dataframe tbody tr th:only-of-type {\n",
       "        vertical-align: middle;\n",
       "    }\n",
       "\n",
       "    .dataframe tbody tr th {\n",
       "        vertical-align: top;\n",
       "    }\n",
       "\n",
       "    .dataframe thead th {\n",
       "        text-align: right;\n",
       "    }\n",
       "</style>\n",
       "<table border=\"1\" class=\"dataframe\">\n",
       "  <thead>\n",
       "    <tr style=\"text-align: right;\">\n",
       "      <th></th>\n",
       "      <th>make</th>\n",
       "      <th>fuel_type</th>\n",
       "      <th>num_of_doors</th>\n",
       "      <th>body_style</th>\n",
       "      <th>drive_wheels</th>\n",
       "      <th>engine_location</th>\n",
       "      <th>wheel_base</th>\n",
       "      <th>length</th>\n",
       "      <th>width</th>\n",
       "      <th>height</th>\n",
       "      <th>curb_weight</th>\n",
       "      <th>engine_type</th>\n",
       "      <th>num_of_cylinders</th>\n",
       "      <th>engine_size</th>\n",
       "      <th>fuel_system</th>\n",
       "      <th>compression_ratio</th>\n",
       "      <th>horsepower</th>\n",
       "      <th>city_mpg</th>\n",
       "      <th>highway_mpg</th>\n",
       "      <th>price</th>\n",
       "    </tr>\n",
       "  </thead>\n",
       "  <tbody>\n",
       "    <tr>\n",
       "      <th>0</th>\n",
       "      <td>alfa-romero</td>\n",
       "      <td>gas</td>\n",
       "      <td>two</td>\n",
       "      <td>convertible</td>\n",
       "      <td>rwd</td>\n",
       "      <td>front</td>\n",
       "      <td>88.6</td>\n",
       "      <td>168.8</td>\n",
       "      <td>64.1</td>\n",
       "      <td>48.8</td>\n",
       "      <td>2548</td>\n",
       "      <td>dohc</td>\n",
       "      <td>four</td>\n",
       "      <td>130</td>\n",
       "      <td>mpfi</td>\n",
       "      <td>9.0</td>\n",
       "      <td>111</td>\n",
       "      <td>21</td>\n",
       "      <td>27</td>\n",
       "      <td>13495</td>\n",
       "    </tr>\n",
       "    <tr>\n",
       "      <th>1</th>\n",
       "      <td>alfa-romero</td>\n",
       "      <td>gas</td>\n",
       "      <td>two</td>\n",
       "      <td>convertible</td>\n",
       "      <td>rwd</td>\n",
       "      <td>front</td>\n",
       "      <td>88.6</td>\n",
       "      <td>168.8</td>\n",
       "      <td>64.1</td>\n",
       "      <td>48.8</td>\n",
       "      <td>2548</td>\n",
       "      <td>dohc</td>\n",
       "      <td>four</td>\n",
       "      <td>130</td>\n",
       "      <td>mpfi</td>\n",
       "      <td>9.0</td>\n",
       "      <td>111</td>\n",
       "      <td>21</td>\n",
       "      <td>27</td>\n",
       "      <td>16500</td>\n",
       "    </tr>\n",
       "    <tr>\n",
       "      <th>2</th>\n",
       "      <td>alfa-romero</td>\n",
       "      <td>gas</td>\n",
       "      <td>two</td>\n",
       "      <td>hatchback</td>\n",
       "      <td>rwd</td>\n",
       "      <td>front</td>\n",
       "      <td>94.5</td>\n",
       "      <td>171.2</td>\n",
       "      <td>65.5</td>\n",
       "      <td>52.4</td>\n",
       "      <td>2823</td>\n",
       "      <td>ohcv</td>\n",
       "      <td>six</td>\n",
       "      <td>152</td>\n",
       "      <td>mpfi</td>\n",
       "      <td>9.0</td>\n",
       "      <td>154</td>\n",
       "      <td>19</td>\n",
       "      <td>26</td>\n",
       "      <td>16500</td>\n",
       "    </tr>\n",
       "    <tr>\n",
       "      <th>3</th>\n",
       "      <td>audi</td>\n",
       "      <td>gas</td>\n",
       "      <td>four</td>\n",
       "      <td>sedan</td>\n",
       "      <td>fwd</td>\n",
       "      <td>front</td>\n",
       "      <td>99.8</td>\n",
       "      <td>176.6</td>\n",
       "      <td>66.2</td>\n",
       "      <td>54.3</td>\n",
       "      <td>2337</td>\n",
       "      <td>ohc</td>\n",
       "      <td>four</td>\n",
       "      <td>109</td>\n",
       "      <td>mpfi</td>\n",
       "      <td>70.0</td>\n",
       "      <td>102</td>\n",
       "      <td>24</td>\n",
       "      <td>30</td>\n",
       "      <td>13950</td>\n",
       "    </tr>\n",
       "    <tr>\n",
       "      <th>4</th>\n",
       "      <td>audi</td>\n",
       "      <td>gas</td>\n",
       "      <td>four</td>\n",
       "      <td>sedan</td>\n",
       "      <td>4wd</td>\n",
       "      <td>front</td>\n",
       "      <td>99.4</td>\n",
       "      <td>176.6</td>\n",
       "      <td>66.4</td>\n",
       "      <td>54.3</td>\n",
       "      <td>2824</td>\n",
       "      <td>ohc</td>\n",
       "      <td>five</td>\n",
       "      <td>136</td>\n",
       "      <td>mpfi</td>\n",
       "      <td>8.0</td>\n",
       "      <td>115</td>\n",
       "      <td>18</td>\n",
       "      <td>22</td>\n",
       "      <td>17450</td>\n",
       "    </tr>\n",
       "  </tbody>\n",
       "</table>\n",
       "</div>"
      ],
      "text/plain": [
       "          make fuel_type num_of_doors   body_style drive_wheels  \\\n",
       "0  alfa-romero       gas          two  convertible          rwd   \n",
       "1  alfa-romero       gas          two  convertible          rwd   \n",
       "2  alfa-romero       gas          two    hatchback          rwd   \n",
       "3         audi       gas         four        sedan          fwd   \n",
       "4         audi       gas         four        sedan         4wd    \n",
       "\n",
       "  engine_location  wheel_base  length  width  height  curb_weight engine_type  \\\n",
       "0           front        88.6   168.8   64.1    48.8         2548        dohc   \n",
       "1           front        88.6   168.8   64.1    48.8         2548        dohc   \n",
       "2           front        94.5   171.2   65.5    52.4         2823        ohcv   \n",
       "3           front        99.8   176.6   66.2    54.3         2337         ohc   \n",
       "4           front        99.4   176.6   66.4    54.3         2824         ohc   \n",
       "\n",
       "  num_of_cylinders  engine_size fuel_system  compression_ratio  horsepower  \\\n",
       "0             four          130        mpfi                9.0         111   \n",
       "1             four          130        mpfi                9.0         111   \n",
       "2              six          152        mpfi                9.0         154   \n",
       "3             four          109        mpfi               70.0         102   \n",
       "4             five          136        mpfi                8.0         115   \n",
       "\n",
       "   city_mpg  highway_mpg  price  \n",
       "0        21           27  13495  \n",
       "1        21           27  16500  \n",
       "2        19           26  16500  \n",
       "3        24           30  13950  \n",
       "4        18           22  17450  "
      ]
     },
     "execution_count": 3,
     "metadata": {},
     "output_type": "execute_result"
    }
   ],
   "source": [
    "# Let's preview the first rows of the dataset\n",
    "\n",
    "Car_data.head()"
   ]
  },
  {
   "cell_type": "code",
   "execution_count": 4,
   "id": "a9e4b981",
   "metadata": {},
   "outputs": [
    {
     "data": {
      "text/html": [
       "<div>\n",
       "<style scoped>\n",
       "    .dataframe tbody tr th:only-of-type {\n",
       "        vertical-align: middle;\n",
       "    }\n",
       "\n",
       "    .dataframe tbody tr th {\n",
       "        vertical-align: top;\n",
       "    }\n",
       "\n",
       "    .dataframe thead th {\n",
       "        text-align: right;\n",
       "    }\n",
       "</style>\n",
       "<table border=\"1\" class=\"dataframe\">\n",
       "  <thead>\n",
       "    <tr style=\"text-align: right;\">\n",
       "      <th></th>\n",
       "      <th>make</th>\n",
       "      <th>fuel_type</th>\n",
       "      <th>num_of_doors</th>\n",
       "      <th>body_style</th>\n",
       "      <th>drive_wheels</th>\n",
       "      <th>engine_location</th>\n",
       "      <th>wheel_base</th>\n",
       "      <th>length</th>\n",
       "      <th>width</th>\n",
       "      <th>height</th>\n",
       "      <th>curb_weight</th>\n",
       "      <th>engine_type</th>\n",
       "      <th>num_of_cylinders</th>\n",
       "      <th>engine_size</th>\n",
       "      <th>fuel_system</th>\n",
       "      <th>compression_ratio</th>\n",
       "      <th>horsepower</th>\n",
       "      <th>city_mpg</th>\n",
       "      <th>highway_mpg</th>\n",
       "      <th>price</th>\n",
       "    </tr>\n",
       "  </thead>\n",
       "  <tbody>\n",
       "    <tr>\n",
       "      <th>198</th>\n",
       "      <td>volvo</td>\n",
       "      <td>gas</td>\n",
       "      <td>four</td>\n",
       "      <td>sedan</td>\n",
       "      <td>rwd</td>\n",
       "      <td>front</td>\n",
       "      <td>109.1</td>\n",
       "      <td>188.8</td>\n",
       "      <td>68.9</td>\n",
       "      <td>55.5</td>\n",
       "      <td>2952</td>\n",
       "      <td>ohc</td>\n",
       "      <td>four</td>\n",
       "      <td>141</td>\n",
       "      <td>mpfi</td>\n",
       "      <td>9.5</td>\n",
       "      <td>114</td>\n",
       "      <td>23</td>\n",
       "      <td>28</td>\n",
       "      <td>16845</td>\n",
       "    </tr>\n",
       "    <tr>\n",
       "      <th>199</th>\n",
       "      <td>volvo</td>\n",
       "      <td>gas</td>\n",
       "      <td>four</td>\n",
       "      <td>sedan</td>\n",
       "      <td>rwd</td>\n",
       "      <td>front</td>\n",
       "      <td>109.1</td>\n",
       "      <td>188.8</td>\n",
       "      <td>68.8</td>\n",
       "      <td>55.5</td>\n",
       "      <td>3049</td>\n",
       "      <td>ohc</td>\n",
       "      <td>four</td>\n",
       "      <td>141</td>\n",
       "      <td>mpfi</td>\n",
       "      <td>8.7</td>\n",
       "      <td>160</td>\n",
       "      <td>19</td>\n",
       "      <td>25</td>\n",
       "      <td>19045</td>\n",
       "    </tr>\n",
       "    <tr>\n",
       "      <th>200</th>\n",
       "      <td>volvo</td>\n",
       "      <td>gas</td>\n",
       "      <td>four</td>\n",
       "      <td>sedan</td>\n",
       "      <td>rwd</td>\n",
       "      <td>front</td>\n",
       "      <td>109.1</td>\n",
       "      <td>188.8</td>\n",
       "      <td>68.9</td>\n",
       "      <td>55.5</td>\n",
       "      <td>3012</td>\n",
       "      <td>ohcv</td>\n",
       "      <td>six</td>\n",
       "      <td>173</td>\n",
       "      <td>mpfi</td>\n",
       "      <td>8.8</td>\n",
       "      <td>134</td>\n",
       "      <td>18</td>\n",
       "      <td>23</td>\n",
       "      <td>21485</td>\n",
       "    </tr>\n",
       "    <tr>\n",
       "      <th>201</th>\n",
       "      <td>volvo</td>\n",
       "      <td>diesel</td>\n",
       "      <td>four</td>\n",
       "      <td>sedan</td>\n",
       "      <td>rwd</td>\n",
       "      <td>front</td>\n",
       "      <td>109.1</td>\n",
       "      <td>188.8</td>\n",
       "      <td>68.9</td>\n",
       "      <td>55.5</td>\n",
       "      <td>3217</td>\n",
       "      <td>ohc</td>\n",
       "      <td>six</td>\n",
       "      <td>145</td>\n",
       "      <td>idi</td>\n",
       "      <td>23.0</td>\n",
       "      <td>106</td>\n",
       "      <td>26</td>\n",
       "      <td>27</td>\n",
       "      <td>22470</td>\n",
       "    </tr>\n",
       "    <tr>\n",
       "      <th>202</th>\n",
       "      <td>volvo</td>\n",
       "      <td>gas</td>\n",
       "      <td>four</td>\n",
       "      <td>sedan</td>\n",
       "      <td>rwd</td>\n",
       "      <td>front</td>\n",
       "      <td>109.1</td>\n",
       "      <td>188.8</td>\n",
       "      <td>68.9</td>\n",
       "      <td>55.5</td>\n",
       "      <td>3062</td>\n",
       "      <td>ohc</td>\n",
       "      <td>four</td>\n",
       "      <td>141</td>\n",
       "      <td>mpfi</td>\n",
       "      <td>9.5</td>\n",
       "      <td>114</td>\n",
       "      <td>19</td>\n",
       "      <td>25</td>\n",
       "      <td>22625</td>\n",
       "    </tr>\n",
       "  </tbody>\n",
       "</table>\n",
       "</div>"
      ],
      "text/plain": [
       "      make fuel_type num_of_doors body_style drive_wheels engine_location  \\\n",
       "198  volvo       gas         four      sedan          rwd           front   \n",
       "199  volvo       gas         four      sedan          rwd           front   \n",
       "200  volvo       gas         four      sedan          rwd           front   \n",
       "201  volvo    diesel         four      sedan          rwd           front   \n",
       "202  volvo       gas         four      sedan          rwd           front   \n",
       "\n",
       "     wheel_base  length  width  height  curb_weight engine_type  \\\n",
       "198       109.1   188.8   68.9    55.5         2952         ohc   \n",
       "199       109.1   188.8   68.8    55.5         3049         ohc   \n",
       "200       109.1   188.8   68.9    55.5         3012        ohcv   \n",
       "201       109.1   188.8   68.9    55.5         3217         ohc   \n",
       "202       109.1   188.8   68.9    55.5         3062         ohc   \n",
       "\n",
       "    num_of_cylinders  engine_size fuel_system  compression_ratio  horsepower  \\\n",
       "198             four          141        mpfi                9.5         114   \n",
       "199             four          141        mpfi                8.7         160   \n",
       "200              six          173        mpfi                8.8         134   \n",
       "201              six          145         idi               23.0         106   \n",
       "202             four          141        mpfi                9.5         114   \n",
       "\n",
       "     city_mpg  highway_mpg  price  \n",
       "198        23           28  16845  \n",
       "199        19           25  19045  \n",
       "200        18           23  21485  \n",
       "201        26           27  22470  \n",
       "202        19           25  22625  "
      ]
     },
     "execution_count": 4,
     "metadata": {},
     "output_type": "execute_result"
    }
   ],
   "source": [
    "# Let's preview the last rows of the dataset\n",
    "\n",
    "Car_data.tail()"
   ]
  },
  {
   "cell_type": "code",
   "execution_count": 5,
   "id": "a6568e73",
   "metadata": {},
   "outputs": [
    {
     "data": {
      "text/plain": [
       "(203, 20)"
      ]
     },
     "execution_count": 5,
     "metadata": {},
     "output_type": "execute_result"
    }
   ],
   "source": [
    "# Let's preview the number of rows and columns\n",
    "\n",
    "Car_data.shape"
   ]
  },
  {
   "cell_type": "code",
   "execution_count": 6,
   "id": "18e36761",
   "metadata": {},
   "outputs": [
    {
     "name": "stdout",
     "output_type": "stream",
     "text": [
      "<class 'pandas.core.frame.DataFrame'>\n",
      "RangeIndex: 203 entries, 0 to 202\n",
      "Data columns (total 20 columns):\n",
      " #   Column             Non-Null Count  Dtype  \n",
      "---  ------             --------------  -----  \n",
      " 0   make               203 non-null    object \n",
      " 1   fuel_type          203 non-null    object \n",
      " 2   num_of_doors       201 non-null    object \n",
      " 3   body_style         203 non-null    object \n",
      " 4   drive_wheels       203 non-null    object \n",
      " 5   engine_location    203 non-null    object \n",
      " 6   wheel_base         203 non-null    float64\n",
      " 7   length             203 non-null    float64\n",
      " 8   width              203 non-null    float64\n",
      " 9   height             203 non-null    float64\n",
      " 10  curb_weight        203 non-null    int64  \n",
      " 11  engine_type        203 non-null    object \n",
      " 12  num_of_cylinders   203 non-null    object \n",
      " 13  engine_size        203 non-null    int64  \n",
      " 14  fuel_system        203 non-null    object \n",
      " 15  compression_ratio  203 non-null    float64\n",
      " 16  horsepower         203 non-null    int64  \n",
      " 17  city_mpg           203 non-null    int64  \n",
      " 18  highway_mpg        203 non-null    int64  \n",
      " 19  price              203 non-null    int64  \n",
      "dtypes: float64(5), int64(6), object(9)\n",
      "memory usage: 31.8+ KB\n"
     ]
    }
   ],
   "source": [
    "# Let's check the information about the dataset\n",
    "\n",
    "Car_data.info()"
   ]
  },
  {
   "cell_type": "code",
   "execution_count": 7,
   "id": "57a31943",
   "metadata": {},
   "outputs": [],
   "source": [
    "# Let's convert datatype to float in the column 'price'\n",
    "\n",
    "Car_data['price'] = Car_data['price'].astype('float')"
   ]
  },
  {
   "cell_type": "code",
   "execution_count": 8,
   "id": "4af320fb",
   "metadata": {},
   "outputs": [
    {
     "name": "stdout",
     "output_type": "stream",
     "text": [
      "<class 'pandas.core.frame.DataFrame'>\n",
      "RangeIndex: 203 entries, 0 to 202\n",
      "Data columns (total 20 columns):\n",
      " #   Column             Non-Null Count  Dtype  \n",
      "---  ------             --------------  -----  \n",
      " 0   make               203 non-null    object \n",
      " 1   fuel_type          203 non-null    object \n",
      " 2   num_of_doors       201 non-null    object \n",
      " 3   body_style         203 non-null    object \n",
      " 4   drive_wheels       203 non-null    object \n",
      " 5   engine_location    203 non-null    object \n",
      " 6   wheel_base         203 non-null    float64\n",
      " 7   length             203 non-null    float64\n",
      " 8   width              203 non-null    float64\n",
      " 9   height             203 non-null    float64\n",
      " 10  curb_weight        203 non-null    int64  \n",
      " 11  engine_type        203 non-null    object \n",
      " 12  num_of_cylinders   203 non-null    object \n",
      " 13  engine_size        203 non-null    int64  \n",
      " 14  fuel_system        203 non-null    object \n",
      " 15  compression_ratio  203 non-null    float64\n",
      " 16  horsepower         203 non-null    int64  \n",
      " 17  city_mpg           203 non-null    int64  \n",
      " 18  highway_mpg        203 non-null    int64  \n",
      " 19  price              203 non-null    float64\n",
      "dtypes: float64(6), int64(5), object(9)\n",
      "memory usage: 31.8+ KB\n"
     ]
    }
   ],
   "source": [
    "# Let's check if the datatype of the column 'price' was successfully converted\n",
    "\n",
    "Car_data.info()"
   ]
  },
  {
   "cell_type": "code",
   "execution_count": 9,
   "id": "0bd9683b",
   "metadata": {},
   "outputs": [
    {
     "data": {
      "text/html": [
       "<div>\n",
       "<style scoped>\n",
       "    .dataframe tbody tr th:only-of-type {\n",
       "        vertical-align: middle;\n",
       "    }\n",
       "\n",
       "    .dataframe tbody tr th {\n",
       "        vertical-align: top;\n",
       "    }\n",
       "\n",
       "    .dataframe thead th {\n",
       "        text-align: right;\n",
       "    }\n",
       "</style>\n",
       "<table border=\"1\" class=\"dataframe\">\n",
       "  <thead>\n",
       "    <tr style=\"text-align: right;\">\n",
       "      <th></th>\n",
       "      <th>make</th>\n",
       "      <th>fuel_type</th>\n",
       "      <th>num_of_doors</th>\n",
       "      <th>body_style</th>\n",
       "      <th>drive_wheels</th>\n",
       "      <th>engine_location</th>\n",
       "      <th>wheel_base</th>\n",
       "      <th>length</th>\n",
       "      <th>width</th>\n",
       "      <th>height</th>\n",
       "      <th>curb_weight</th>\n",
       "      <th>engine_type</th>\n",
       "      <th>num_of_cylinders</th>\n",
       "      <th>engine_size</th>\n",
       "      <th>fuel_system</th>\n",
       "      <th>compression_ratio</th>\n",
       "      <th>horsepower</th>\n",
       "      <th>city_mpg</th>\n",
       "      <th>highway_mpg</th>\n",
       "      <th>price</th>\n",
       "    </tr>\n",
       "  </thead>\n",
       "  <tbody>\n",
       "    <tr>\n",
       "      <th>0</th>\n",
       "      <td>alfa-romero</td>\n",
       "      <td>gas</td>\n",
       "      <td>two</td>\n",
       "      <td>convertible</td>\n",
       "      <td>rwd</td>\n",
       "      <td>front</td>\n",
       "      <td>88.6</td>\n",
       "      <td>168.8</td>\n",
       "      <td>64.1</td>\n",
       "      <td>48.8</td>\n",
       "      <td>2548</td>\n",
       "      <td>dohc</td>\n",
       "      <td>four</td>\n",
       "      <td>130</td>\n",
       "      <td>mpfi</td>\n",
       "      <td>9.0</td>\n",
       "      <td>111</td>\n",
       "      <td>21</td>\n",
       "      <td>27</td>\n",
       "      <td>13495.0</td>\n",
       "    </tr>\n",
       "    <tr>\n",
       "      <th>1</th>\n",
       "      <td>alfa-romero</td>\n",
       "      <td>gas</td>\n",
       "      <td>two</td>\n",
       "      <td>convertible</td>\n",
       "      <td>rwd</td>\n",
       "      <td>front</td>\n",
       "      <td>88.6</td>\n",
       "      <td>168.8</td>\n",
       "      <td>64.1</td>\n",
       "      <td>48.8</td>\n",
       "      <td>2548</td>\n",
       "      <td>dohc</td>\n",
       "      <td>four</td>\n",
       "      <td>130</td>\n",
       "      <td>mpfi</td>\n",
       "      <td>9.0</td>\n",
       "      <td>111</td>\n",
       "      <td>21</td>\n",
       "      <td>27</td>\n",
       "      <td>16500.0</td>\n",
       "    </tr>\n",
       "    <tr>\n",
       "      <th>2</th>\n",
       "      <td>alfa-romero</td>\n",
       "      <td>gas</td>\n",
       "      <td>two</td>\n",
       "      <td>hatchback</td>\n",
       "      <td>rwd</td>\n",
       "      <td>front</td>\n",
       "      <td>94.5</td>\n",
       "      <td>171.2</td>\n",
       "      <td>65.5</td>\n",
       "      <td>52.4</td>\n",
       "      <td>2823</td>\n",
       "      <td>ohcv</td>\n",
       "      <td>six</td>\n",
       "      <td>152</td>\n",
       "      <td>mpfi</td>\n",
       "      <td>9.0</td>\n",
       "      <td>154</td>\n",
       "      <td>19</td>\n",
       "      <td>26</td>\n",
       "      <td>16500.0</td>\n",
       "    </tr>\n",
       "    <tr>\n",
       "      <th>3</th>\n",
       "      <td>audi</td>\n",
       "      <td>gas</td>\n",
       "      <td>four</td>\n",
       "      <td>sedan</td>\n",
       "      <td>fwd</td>\n",
       "      <td>front</td>\n",
       "      <td>99.8</td>\n",
       "      <td>176.6</td>\n",
       "      <td>66.2</td>\n",
       "      <td>54.3</td>\n",
       "      <td>2337</td>\n",
       "      <td>ohc</td>\n",
       "      <td>four</td>\n",
       "      <td>109</td>\n",
       "      <td>mpfi</td>\n",
       "      <td>70.0</td>\n",
       "      <td>102</td>\n",
       "      <td>24</td>\n",
       "      <td>30</td>\n",
       "      <td>13950.0</td>\n",
       "    </tr>\n",
       "    <tr>\n",
       "      <th>4</th>\n",
       "      <td>audi</td>\n",
       "      <td>gas</td>\n",
       "      <td>four</td>\n",
       "      <td>sedan</td>\n",
       "      <td>4wd</td>\n",
       "      <td>front</td>\n",
       "      <td>99.4</td>\n",
       "      <td>176.6</td>\n",
       "      <td>66.4</td>\n",
       "      <td>54.3</td>\n",
       "      <td>2824</td>\n",
       "      <td>ohc</td>\n",
       "      <td>five</td>\n",
       "      <td>136</td>\n",
       "      <td>mpfi</td>\n",
       "      <td>8.0</td>\n",
       "      <td>115</td>\n",
       "      <td>18</td>\n",
       "      <td>22</td>\n",
       "      <td>17450.0</td>\n",
       "    </tr>\n",
       "  </tbody>\n",
       "</table>\n",
       "</div>"
      ],
      "text/plain": [
       "          make fuel_type num_of_doors   body_style drive_wheels  \\\n",
       "0  alfa-romero       gas          two  convertible          rwd   \n",
       "1  alfa-romero       gas          two  convertible          rwd   \n",
       "2  alfa-romero       gas          two    hatchback          rwd   \n",
       "3         audi       gas         four        sedan          fwd   \n",
       "4         audi       gas         four        sedan         4wd    \n",
       "\n",
       "  engine_location  wheel_base  length  width  height  curb_weight engine_type  \\\n",
       "0           front        88.6   168.8   64.1    48.8         2548        dohc   \n",
       "1           front        88.6   168.8   64.1    48.8         2548        dohc   \n",
       "2           front        94.5   171.2   65.5    52.4         2823        ohcv   \n",
       "3           front        99.8   176.6   66.2    54.3         2337         ohc   \n",
       "4           front        99.4   176.6   66.4    54.3         2824         ohc   \n",
       "\n",
       "  num_of_cylinders  engine_size fuel_system  compression_ratio  horsepower  \\\n",
       "0             four          130        mpfi                9.0         111   \n",
       "1             four          130        mpfi                9.0         111   \n",
       "2              six          152        mpfi                9.0         154   \n",
       "3             four          109        mpfi               70.0         102   \n",
       "4             five          136        mpfi                8.0         115   \n",
       "\n",
       "   city_mpg  highway_mpg    price  \n",
       "0        21           27  13495.0  \n",
       "1        21           27  16500.0  \n",
       "2        19           26  16500.0  \n",
       "3        24           30  13950.0  \n",
       "4        18           22  17450.0  "
      ]
     },
     "execution_count": 9,
     "metadata": {},
     "output_type": "execute_result"
    }
   ],
   "source": [
    "# Let's view the first five rows to see the changes made in our dataset\n",
    "\n",
    "Car_data.head()"
   ]
  },
  {
   "cell_type": "code",
   "execution_count": 10,
   "id": "3972892b",
   "metadata": {},
   "outputs": [
    {
     "data": {
      "text/html": [
       "<div>\n",
       "<style scoped>\n",
       "    .dataframe tbody tr th:only-of-type {\n",
       "        vertical-align: middle;\n",
       "    }\n",
       "\n",
       "    .dataframe tbody tr th {\n",
       "        vertical-align: top;\n",
       "    }\n",
       "\n",
       "    .dataframe thead th {\n",
       "        text-align: right;\n",
       "    }\n",
       "</style>\n",
       "<table border=\"1\" class=\"dataframe\">\n",
       "  <thead>\n",
       "    <tr style=\"text-align: right;\">\n",
       "      <th></th>\n",
       "      <th>make</th>\n",
       "      <th>fuel_type</th>\n",
       "      <th>num_of_doors</th>\n",
       "      <th>body_style</th>\n",
       "      <th>drive_wheels</th>\n",
       "      <th>engine_location</th>\n",
       "      <th>wheel_base</th>\n",
       "      <th>length</th>\n",
       "      <th>width</th>\n",
       "      <th>height</th>\n",
       "      <th>curb_weight</th>\n",
       "      <th>engine_type</th>\n",
       "      <th>num_of_cylinders</th>\n",
       "      <th>engine_size</th>\n",
       "      <th>fuel_system</th>\n",
       "      <th>compression_ratio</th>\n",
       "      <th>horsepower</th>\n",
       "      <th>city_mpg</th>\n",
       "      <th>highway_mpg</th>\n",
       "      <th>price</th>\n",
       "    </tr>\n",
       "  </thead>\n",
       "  <tbody>\n",
       "    <tr>\n",
       "      <th>198</th>\n",
       "      <td>volvo</td>\n",
       "      <td>gas</td>\n",
       "      <td>four</td>\n",
       "      <td>sedan</td>\n",
       "      <td>rwd</td>\n",
       "      <td>front</td>\n",
       "      <td>109.1</td>\n",
       "      <td>188.8</td>\n",
       "      <td>68.9</td>\n",
       "      <td>55.5</td>\n",
       "      <td>2952</td>\n",
       "      <td>ohc</td>\n",
       "      <td>four</td>\n",
       "      <td>141</td>\n",
       "      <td>mpfi</td>\n",
       "      <td>9.5</td>\n",
       "      <td>114</td>\n",
       "      <td>23</td>\n",
       "      <td>28</td>\n",
       "      <td>16845.0</td>\n",
       "    </tr>\n",
       "    <tr>\n",
       "      <th>199</th>\n",
       "      <td>volvo</td>\n",
       "      <td>gas</td>\n",
       "      <td>four</td>\n",
       "      <td>sedan</td>\n",
       "      <td>rwd</td>\n",
       "      <td>front</td>\n",
       "      <td>109.1</td>\n",
       "      <td>188.8</td>\n",
       "      <td>68.8</td>\n",
       "      <td>55.5</td>\n",
       "      <td>3049</td>\n",
       "      <td>ohc</td>\n",
       "      <td>four</td>\n",
       "      <td>141</td>\n",
       "      <td>mpfi</td>\n",
       "      <td>8.7</td>\n",
       "      <td>160</td>\n",
       "      <td>19</td>\n",
       "      <td>25</td>\n",
       "      <td>19045.0</td>\n",
       "    </tr>\n",
       "    <tr>\n",
       "      <th>200</th>\n",
       "      <td>volvo</td>\n",
       "      <td>gas</td>\n",
       "      <td>four</td>\n",
       "      <td>sedan</td>\n",
       "      <td>rwd</td>\n",
       "      <td>front</td>\n",
       "      <td>109.1</td>\n",
       "      <td>188.8</td>\n",
       "      <td>68.9</td>\n",
       "      <td>55.5</td>\n",
       "      <td>3012</td>\n",
       "      <td>ohcv</td>\n",
       "      <td>six</td>\n",
       "      <td>173</td>\n",
       "      <td>mpfi</td>\n",
       "      <td>8.8</td>\n",
       "      <td>134</td>\n",
       "      <td>18</td>\n",
       "      <td>23</td>\n",
       "      <td>21485.0</td>\n",
       "    </tr>\n",
       "    <tr>\n",
       "      <th>201</th>\n",
       "      <td>volvo</td>\n",
       "      <td>diesel</td>\n",
       "      <td>four</td>\n",
       "      <td>sedan</td>\n",
       "      <td>rwd</td>\n",
       "      <td>front</td>\n",
       "      <td>109.1</td>\n",
       "      <td>188.8</td>\n",
       "      <td>68.9</td>\n",
       "      <td>55.5</td>\n",
       "      <td>3217</td>\n",
       "      <td>ohc</td>\n",
       "      <td>six</td>\n",
       "      <td>145</td>\n",
       "      <td>idi</td>\n",
       "      <td>23.0</td>\n",
       "      <td>106</td>\n",
       "      <td>26</td>\n",
       "      <td>27</td>\n",
       "      <td>22470.0</td>\n",
       "    </tr>\n",
       "    <tr>\n",
       "      <th>202</th>\n",
       "      <td>volvo</td>\n",
       "      <td>gas</td>\n",
       "      <td>four</td>\n",
       "      <td>sedan</td>\n",
       "      <td>rwd</td>\n",
       "      <td>front</td>\n",
       "      <td>109.1</td>\n",
       "      <td>188.8</td>\n",
       "      <td>68.9</td>\n",
       "      <td>55.5</td>\n",
       "      <td>3062</td>\n",
       "      <td>ohc</td>\n",
       "      <td>four</td>\n",
       "      <td>141</td>\n",
       "      <td>mpfi</td>\n",
       "      <td>9.5</td>\n",
       "      <td>114</td>\n",
       "      <td>19</td>\n",
       "      <td>25</td>\n",
       "      <td>22625.0</td>\n",
       "    </tr>\n",
       "  </tbody>\n",
       "</table>\n",
       "</div>"
      ],
      "text/plain": [
       "      make fuel_type num_of_doors body_style drive_wheels engine_location  \\\n",
       "198  volvo       gas         four      sedan          rwd           front   \n",
       "199  volvo       gas         four      sedan          rwd           front   \n",
       "200  volvo       gas         four      sedan          rwd           front   \n",
       "201  volvo    diesel         four      sedan          rwd           front   \n",
       "202  volvo       gas         four      sedan          rwd           front   \n",
       "\n",
       "     wheel_base  length  width  height  curb_weight engine_type  \\\n",
       "198       109.1   188.8   68.9    55.5         2952         ohc   \n",
       "199       109.1   188.8   68.8    55.5         3049         ohc   \n",
       "200       109.1   188.8   68.9    55.5         3012        ohcv   \n",
       "201       109.1   188.8   68.9    55.5         3217         ohc   \n",
       "202       109.1   188.8   68.9    55.5         3062         ohc   \n",
       "\n",
       "    num_of_cylinders  engine_size fuel_system  compression_ratio  horsepower  \\\n",
       "198             four          141        mpfi                9.5         114   \n",
       "199             four          141        mpfi                8.7         160   \n",
       "200              six          173        mpfi                8.8         134   \n",
       "201              six          145         idi               23.0         106   \n",
       "202             four          141        mpfi                9.5         114   \n",
       "\n",
       "     city_mpg  highway_mpg    price  \n",
       "198        23           28  16845.0  \n",
       "199        19           25  19045.0  \n",
       "200        18           23  21485.0  \n",
       "201        26           27  22470.0  \n",
       "202        19           25  22625.0  "
      ]
     },
     "execution_count": 10,
     "metadata": {},
     "output_type": "execute_result"
    }
   ],
   "source": [
    "# Also let's view the first five rows in our dataset\n",
    "\n",
    "Car_data.tail()"
   ]
  },
  {
   "cell_type": "markdown",
   "id": "ea6132fc",
   "metadata": {},
   "source": [
    "### Categorical Features\n",
    "\n",
    "### make\n",
    "### fuel_type\n",
    "### num_of_doors\n",
    "### body_style\n",
    "### drive_wheels\n",
    "### engine_location\n",
    "### engine_type\n",
    "### num_of_cylinders\n",
    "### fuel_system"
   ]
  },
  {
   "cell_type": "code",
   "execution_count": 11,
   "id": "e74d65a4",
   "metadata": {},
   "outputs": [
    {
     "data": {
      "text/plain": [
       "make                 0\n",
       "fuel_type            0\n",
       "num_of_doors         2\n",
       "body_style           0\n",
       "drive_wheels         0\n",
       "engine_location      0\n",
       "wheel_base           0\n",
       "length               0\n",
       "width                0\n",
       "height               0\n",
       "curb_weight          0\n",
       "engine_type          0\n",
       "num_of_cylinders     0\n",
       "engine_size          0\n",
       "fuel_system          0\n",
       "compression_ratio    0\n",
       "horsepower           0\n",
       "city_mpg             0\n",
       "highway_mpg          0\n",
       "price                0\n",
       "dtype: int64"
      ]
     },
     "execution_count": 11,
     "metadata": {},
     "output_type": "execute_result"
    }
   ],
   "source": [
    "# Let's check the number of missing values in each column\n",
    "\n",
    "Car_data.isnull().sum()"
   ]
  },
  {
   "cell_type": "code",
   "execution_count": 12,
   "id": "5fd38659",
   "metadata": {},
   "outputs": [],
   "source": [
    "# Let's drop the missing values in the dataset\n",
    "\n",
    "Car_data = Car_data.dropna()"
   ]
  },
  {
   "cell_type": "code",
   "execution_count": 13,
   "id": "76823b0d",
   "metadata": {},
   "outputs": [
    {
     "data": {
      "text/plain": [
       "make                 0\n",
       "fuel_type            0\n",
       "num_of_doors         0\n",
       "body_style           0\n",
       "drive_wheels         0\n",
       "engine_location      0\n",
       "wheel_base           0\n",
       "length               0\n",
       "width                0\n",
       "height               0\n",
       "curb_weight          0\n",
       "engine_type          0\n",
       "num_of_cylinders     0\n",
       "engine_size          0\n",
       "fuel_system          0\n",
       "compression_ratio    0\n",
       "horsepower           0\n",
       "city_mpg             0\n",
       "highway_mpg          0\n",
       "price                0\n",
       "dtype: int64"
      ]
     },
     "execution_count": 13,
     "metadata": {},
     "output_type": "execute_result"
    }
   ],
   "source": [
    "# Let's check if there's still missing values in the dataset\n",
    "\n",
    "Car_data.isnull().sum()"
   ]
  },
  {
   "cell_type": "code",
   "execution_count": 14,
   "id": "21b82984",
   "metadata": {},
   "outputs": [
    {
     "name": "stdout",
     "output_type": "stream",
     "text": [
      "0      False\n",
      "1      False\n",
      "2      False\n",
      "3      False\n",
      "4      False\n",
      "       ...  \n",
      "198    False\n",
      "199    False\n",
      "200    False\n",
      "201    False\n",
      "202    False\n",
      "Length: 201, dtype: bool\n"
     ]
    }
   ],
   "source": [
    "# Let's check if there's any duplicates in the dataset\n",
    "\n",
    "print(Car_data.duplicated())"
   ]
  },
  {
   "cell_type": "code",
   "execution_count": 15,
   "id": "216bc6dc",
   "metadata": {},
   "outputs": [
    {
     "data": {
      "text/plain": [
       "Index(['make', 'fuel_type', 'num_of_doors', 'body_style', 'drive_wheels',\n",
       "       'engine_location', 'wheel_base', 'length', 'width', 'height',\n",
       "       'curb_weight', 'engine_type', 'num_of_cylinders', 'engine_size',\n",
       "       'fuel_system', 'compression_ratio', 'horsepower', 'city_mpg',\n",
       "       'highway_mpg', 'price'],\n",
       "      dtype='object')"
      ]
     },
     "execution_count": 15,
     "metadata": {},
     "output_type": "execute_result"
    }
   ],
   "source": [
    "# Let's view the list of the columns in our dataset\n",
    "\n",
    "Car_data.columns"
   ]
  },
  {
   "cell_type": "markdown",
   "id": "5859f644",
   "metadata": {},
   "source": [
    "### Data Analysis"
   ]
  },
  {
   "cell_type": "code",
   "execution_count": 16,
   "id": "6b073b45",
   "metadata": {},
   "outputs": [
    {
     "data": {
      "text/html": [
       "<div>\n",
       "<style scoped>\n",
       "    .dataframe tbody tr th:only-of-type {\n",
       "        vertical-align: middle;\n",
       "    }\n",
       "\n",
       "    .dataframe tbody tr th {\n",
       "        vertical-align: top;\n",
       "    }\n",
       "\n",
       "    .dataframe thead th {\n",
       "        text-align: right;\n",
       "    }\n",
       "</style>\n",
       "<table border=\"1\" class=\"dataframe\">\n",
       "  <thead>\n",
       "    <tr style=\"text-align: right;\">\n",
       "      <th></th>\n",
       "      <th>wheel_base</th>\n",
       "      <th>length</th>\n",
       "      <th>width</th>\n",
       "      <th>height</th>\n",
       "      <th>curb_weight</th>\n",
       "      <th>engine_size</th>\n",
       "      <th>compression_ratio</th>\n",
       "      <th>horsepower</th>\n",
       "      <th>city_mpg</th>\n",
       "      <th>highway_mpg</th>\n",
       "      <th>price</th>\n",
       "    </tr>\n",
       "  </thead>\n",
       "  <tbody>\n",
       "    <tr>\n",
       "      <th>count</th>\n",
       "      <td>201.000000</td>\n",
       "      <td>201.000000</td>\n",
       "      <td>201.000000</td>\n",
       "      <td>201.000000</td>\n",
       "      <td>201.000000</td>\n",
       "      <td>201.000000</td>\n",
       "      <td>201.000000</td>\n",
       "      <td>201.000000</td>\n",
       "      <td>201.000000</td>\n",
       "      <td>201.000000</td>\n",
       "      <td>201.000000</td>\n",
       "    </tr>\n",
       "    <tr>\n",
       "      <th>mean</th>\n",
       "      <td>98.807960</td>\n",
       "      <td>174.063184</td>\n",
       "      <td>65.908955</td>\n",
       "      <td>53.740299</td>\n",
       "      <td>2558.298507</td>\n",
       "      <td>127.024876</td>\n",
       "      <td>10.405572</td>\n",
       "      <td>104.467662</td>\n",
       "      <td>25.194030</td>\n",
       "      <td>30.696517</td>\n",
       "      <td>13015.373134</td>\n",
       "    </tr>\n",
       "    <tr>\n",
       "      <th>std</th>\n",
       "      <td>6.065141</td>\n",
       "      <td>12.388068</td>\n",
       "      <td>2.160051</td>\n",
       "      <td>2.441827</td>\n",
       "      <td>525.115435</td>\n",
       "      <td>42.002671</td>\n",
       "      <td>5.752913</td>\n",
       "      <td>39.809926</td>\n",
       "      <td>6.558747</td>\n",
       "      <td>6.908867</td>\n",
       "      <td>8144.871749</td>\n",
       "    </tr>\n",
       "    <tr>\n",
       "      <th>min</th>\n",
       "      <td>86.600000</td>\n",
       "      <td>141.100000</td>\n",
       "      <td>60.300000</td>\n",
       "      <td>47.800000</td>\n",
       "      <td>1488.000000</td>\n",
       "      <td>61.000000</td>\n",
       "      <td>7.000000</td>\n",
       "      <td>48.000000</td>\n",
       "      <td>13.000000</td>\n",
       "      <td>16.000000</td>\n",
       "      <td>0.000000</td>\n",
       "    </tr>\n",
       "    <tr>\n",
       "      <th>25%</th>\n",
       "      <td>94.500000</td>\n",
       "      <td>166.300000</td>\n",
       "      <td>64.100000</td>\n",
       "      <td>52.000000</td>\n",
       "      <td>2145.000000</td>\n",
       "      <td>97.000000</td>\n",
       "      <td>8.600000</td>\n",
       "      <td>70.000000</td>\n",
       "      <td>19.000000</td>\n",
       "      <td>25.000000</td>\n",
       "      <td>7609.000000</td>\n",
       "    </tr>\n",
       "    <tr>\n",
       "      <th>50%</th>\n",
       "      <td>97.000000</td>\n",
       "      <td>173.200000</td>\n",
       "      <td>65.500000</td>\n",
       "      <td>54.100000</td>\n",
       "      <td>2414.000000</td>\n",
       "      <td>119.000000</td>\n",
       "      <td>9.000000</td>\n",
       "      <td>95.000000</td>\n",
       "      <td>24.000000</td>\n",
       "      <td>30.000000</td>\n",
       "      <td>10245.000000</td>\n",
       "    </tr>\n",
       "    <tr>\n",
       "      <th>75%</th>\n",
       "      <td>102.400000</td>\n",
       "      <td>183.500000</td>\n",
       "      <td>66.900000</td>\n",
       "      <td>55.500000</td>\n",
       "      <td>2952.000000</td>\n",
       "      <td>145.000000</td>\n",
       "      <td>9.400000</td>\n",
       "      <td>116.000000</td>\n",
       "      <td>30.000000</td>\n",
       "      <td>34.000000</td>\n",
       "      <td>16500.000000</td>\n",
       "    </tr>\n",
       "    <tr>\n",
       "      <th>max</th>\n",
       "      <td>120.900000</td>\n",
       "      <td>208.100000</td>\n",
       "      <td>72.300000</td>\n",
       "      <td>59.800000</td>\n",
       "      <td>4066.000000</td>\n",
       "      <td>326.000000</td>\n",
       "      <td>70.000000</td>\n",
       "      <td>288.000000</td>\n",
       "      <td>49.000000</td>\n",
       "      <td>54.000000</td>\n",
       "      <td>45400.000000</td>\n",
       "    </tr>\n",
       "  </tbody>\n",
       "</table>\n",
       "</div>"
      ],
      "text/plain": [
       "       wheel_base      length       width      height  curb_weight  \\\n",
       "count  201.000000  201.000000  201.000000  201.000000   201.000000   \n",
       "mean    98.807960  174.063184   65.908955   53.740299  2558.298507   \n",
       "std      6.065141   12.388068    2.160051    2.441827   525.115435   \n",
       "min     86.600000  141.100000   60.300000   47.800000  1488.000000   \n",
       "25%     94.500000  166.300000   64.100000   52.000000  2145.000000   \n",
       "50%     97.000000  173.200000   65.500000   54.100000  2414.000000   \n",
       "75%    102.400000  183.500000   66.900000   55.500000  2952.000000   \n",
       "max    120.900000  208.100000   72.300000   59.800000  4066.000000   \n",
       "\n",
       "       engine_size  compression_ratio  horsepower    city_mpg  highway_mpg  \\\n",
       "count   201.000000         201.000000  201.000000  201.000000   201.000000   \n",
       "mean    127.024876          10.405572  104.467662   25.194030    30.696517   \n",
       "std      42.002671           5.752913   39.809926    6.558747     6.908867   \n",
       "min      61.000000           7.000000   48.000000   13.000000    16.000000   \n",
       "25%      97.000000           8.600000   70.000000   19.000000    25.000000   \n",
       "50%     119.000000           9.000000   95.000000   24.000000    30.000000   \n",
       "75%     145.000000           9.400000  116.000000   30.000000    34.000000   \n",
       "max     326.000000          70.000000  288.000000   49.000000    54.000000   \n",
       "\n",
       "              price  \n",
       "count    201.000000  \n",
       "mean   13015.373134  \n",
       "std     8144.871749  \n",
       "min        0.000000  \n",
       "25%     7609.000000  \n",
       "50%    10245.000000  \n",
       "75%    16500.000000  \n",
       "max    45400.000000  "
      ]
     },
     "execution_count": 16,
     "metadata": {},
     "output_type": "execute_result"
    }
   ],
   "source": [
    "# Let's get the statistical measures of the dataset\n",
    "\n",
    "Car_data.describe()"
   ]
  },
  {
   "cell_type": "markdown",
   "id": "f204c290",
   "metadata": {},
   "source": [
    "### Numerical Features"
   ]
  },
  {
   "cell_type": "code",
   "execution_count": 17,
   "id": "1e9d5b87",
   "metadata": {},
   "outputs": [],
   "source": [
    "sns.set()"
   ]
  },
  {
   "cell_type": "code",
   "execution_count": 18,
   "id": "ceab52f4",
   "metadata": {},
   "outputs": [
    {
     "data": {
      "text/plain": [
       "<Figure size 432x432 with 0 Axes>"
      ]
     },
     "metadata": {},
     "output_type": "display_data"
    },
    {
     "data": {
      "image/png": "[encoded data removed]",
      "text/plain": [
       "<Figure size 360x360 with 1 Axes>"
      ]
     },
     "metadata": {},
     "output_type": "display_data"
    }
   ],
   "source": [
    "# Let's make a plot for wheel_base distribution\n",
    "\n",
    "plt.figure(figsize = (6,6))\n",
    "sns.displot(Car_data['wheel_base'])\n",
    "plt.show()"
   ]
  },
  {
   "cell_type": "code",
   "execution_count": 19,
   "id": "c2c5cae9",
   "metadata": {},
   "outputs": [
    {
     "data": {
      "text/plain": [
       "<Figure size 432x432 with 0 Axes>"
      ]
     },
     "metadata": {},
     "output_type": "display_data"
    },
    {
     "data": {
      "image/png": "[encoded data removed]",
      "text/plain": [
       "<Figure size 360x360 with 1 Axes>"
      ]
     },
     "metadata": {},
     "output_type": "display_data"
    }
   ],
   "source": [
    "# Let's make a plot for length distribution\n",
    "\n",
    "plt.figure(figsize = (6,6))\n",
    "sns.displot(Car_data['length'])\n",
    "plt.show()"
   ]
  },
  {
   "cell_type": "code",
   "execution_count": 20,
   "id": "bdc0b065",
   "metadata": {},
   "outputs": [
    {
     "data": {
      "text/plain": [
       "<Figure size 432x432 with 0 Axes>"
      ]
     },
     "metadata": {},
     "output_type": "display_data"
    },
    {
     "data": {
      "image/png": "[encoded data removed]",
      "text/plain": [
       "<Figure size 360x360 with 1 Axes>"
      ]
     },
     "metadata": {},
     "output_type": "display_data"
    }
   ],
   "source": [
    "# Let's make a plot for width distribution\n",
    "\n",
    "plt.figure(figsize = (6,6))\n",
    "sns.displot(Car_data['width'])\n",
    "plt.show()"
   ]
  },
  {
   "cell_type": "code",
   "execution_count": 21,
   "id": "d0bf87ae",
   "metadata": {},
   "outputs": [
    {
     "data": {
      "text/plain": [
       "<Figure size 432x432 with 0 Axes>"
      ]
     },
     "metadata": {},
     "output_type": "display_data"
    },
    {
     "data": {
      "image/png": "[encoded data removed]",
      "text/plain": [
       "<Figure size 360x360 with 1 Axes>"
      ]
     },
     "metadata": {},
     "output_type": "display_data"
    }
   ],
   "source": [
    "# Let's make a plot for height distribution\n",
    "\n",
    "plt.figure(figsize = (6,6))\n",
    "sns.displot(Car_data['height'])\n",
    "plt.show()"
   ]
  },
  {
   "cell_type": "code",
   "execution_count": 22,
   "id": "d6370afc",
   "metadata": {},
   "outputs": [
    {
     "data": {
      "text/plain": [
       "<Figure size 432x432 with 0 Axes>"
      ]
     },
     "metadata": {},
     "output_type": "display_data"
    },
    {
     "data": {
      "image/png": "[encoded data removed]",
      "text/plain": [
       "<Figure size 360x360 with 1 Axes>"
      ]
     },
     "metadata": {},
     "output_type": "display_data"
    }
   ],
   "source": [
    "# Let's make a plot for curb weight distribution\n",
    "\n",
    "plt.figure(figsize = (6,6))\n",
    "sns.displot(Car_data['curb_weight'])\n",
    "plt.show()"
   ]
  },
  {
   "cell_type": "code",
   "execution_count": 23,
   "id": "34ca3f72",
   "metadata": {},
   "outputs": [
    {
     "data": {
      "text/plain": [
       "<Figure size 432x432 with 0 Axes>"
      ]
     },
     "metadata": {},
     "output_type": "display_data"
    },
    {
     "data": {
      "image/png": "[encoded data removed]",
      "text/plain": [
       "<Figure size 360x360 with 1 Axes>"
      ]
     },
     "metadata": {},
     "output_type": "display_data"
    }
   ],
   "source": [
    "# Let's make a plot for engine_size distribution\n",
    "\n",
    "plt.figure(figsize = (6,6))\n",
    "sns.displot(Car_data['engine_size'])\n",
    "plt.show()"
   ]
  },
  {
   "cell_type": "code",
   "execution_count": 24,
   "id": "4b056895",
   "metadata": {},
   "outputs": [
    {
     "data": {
      "text/plain": [
       "<Figure size 432x432 with 0 Axes>"
      ]
     },
     "metadata": {},
     "output_type": "display_data"
    },
    {
     "data": {
      "image/png": "[encoded data removed]",
      "text/plain": [
       "<Figure size 360x360 with 1 Axes>"
      ]
     },
     "metadata": {},
     "output_type": "display_data"
    }
   ],
   "source": [
    "# Let's make a plot for compression_ratio distribution\n",
    "\n",
    "plt.figure(figsize = (6,6))\n",
    "sns.displot(Car_data['compression_ratio'])\n",
    "plt.show()"
   ]
  },
  {
   "cell_type": "code",
   "execution_count": 25,
   "id": "54874f21",
   "metadata": {},
   "outputs": [
    {
     "data": {
      "text/plain": [
       "<Figure size 432x432 with 0 Axes>"
      ]
     },
     "metadata": {},
     "output_type": "display_data"
    },
    {
     "data": {
      "image/png": "[encoded data removed]",
      "text/plain": [
       "<Figure size 360x360 with 1 Axes>"
      ]
     },
     "metadata": {},
     "output_type": "display_data"
    }
   ],
   "source": [
    "# Let's make a plot for horsepower distribution\n",
    "\n",
    "plt.figure(figsize = (6,6))\n",
    "sns.displot(Car_data['horsepower'])\n",
    "plt.show()"
   ]
  },
  {
   "cell_type": "code",
   "execution_count": 26,
   "id": "80ea1d67",
   "metadata": {},
   "outputs": [
    {
     "data": {
      "text/plain": [
       "<Figure size 432x432 with 0 Axes>"
      ]
     },
     "metadata": {},
     "output_type": "display_data"
    },
    {
     "data": {
      "image/png": "[encoded data removed]",
      "text/plain": [
       "<Figure size 360x360 with 1 Axes>"
      ]
     },
     "metadata": {},
     "output_type": "display_data"
    }
   ],
   "source": [
    "# Let's make a plot for city_mpg distribution\n",
    "\n",
    "plt.figure(figsize = (6,6))\n",
    "sns.displot(Car_data['city_mpg'])\n",
    "plt.show()"
   ]
  },
  {
   "cell_type": "code",
   "execution_count": 27,
   "id": "7d1ccd3c",
   "metadata": {},
   "outputs": [
    {
     "data": {
      "text/plain": [
       "<Figure size 432x432 with 0 Axes>"
      ]
     },
     "metadata": {},
     "output_type": "display_data"
    },
    {
     "data": {
      "image/png": "[encoded data removed]",
      "text/plain": [
       "<Figure size 360x360 with 1 Axes>"
      ]
     },
     "metadata": {},
     "output_type": "display_data"
    }
   ],
   "source": [
    "# Let's make a plot for highway_mpg distribution\n",
    "\n",
    "plt.figure(figsize = (6,6))\n",
    "sns.displot(Car_data['highway_mpg'])\n",
    "plt.show()"
   ]
  },
  {
   "cell_type": "code",
   "execution_count": 28,
   "id": "4683ef36",
   "metadata": {},
   "outputs": [
    {
     "data": {
      "text/plain": [
       "<Figure size 432x432 with 0 Axes>"
      ]
     },
     "metadata": {},
     "output_type": "display_data"
    },
    {
     "data": {
      "image/png": "[encoded data removed]",
      "text/plain": [
       "<Figure size 360x360 with 1 Axes>"
      ]
     },
     "metadata": {},
     "output_type": "display_data"
    }
   ],
   "source": [
    "# Let's make a plot for price distribution\n",
    "\n",
    "plt.figure(figsize = (6,6))\n",
    "sns.displot(Car_data['price'])\n",
    "plt.show()"
   ]
  },
  {
   "cell_type": "markdown",
   "id": "2bded146",
   "metadata": {},
   "source": [
    "### Categorical Features"
   ]
  },
  {
   "cell_type": "code",
   "execution_count": 29,
   "id": "9108190b",
   "metadata": {},
   "outputs": [
    {
     "data": {
      "text/html": [
       "<div>\n",
       "<style scoped>\n",
       "    .dataframe tbody tr th:only-of-type {\n",
       "        vertical-align: middle;\n",
       "    }\n",
       "\n",
       "    .dataframe tbody tr th {\n",
       "        vertical-align: top;\n",
       "    }\n",
       "\n",
       "    .dataframe thead th {\n",
       "        text-align: right;\n",
       "    }\n",
       "</style>\n",
       "<table border=\"1\" class=\"dataframe\">\n",
       "  <thead>\n",
       "    <tr style=\"text-align: right;\">\n",
       "      <th></th>\n",
       "      <th>make</th>\n",
       "      <th>fuel_type</th>\n",
       "      <th>num_of_doors</th>\n",
       "      <th>body_style</th>\n",
       "      <th>drive_wheels</th>\n",
       "      <th>engine_location</th>\n",
       "      <th>wheel_base</th>\n",
       "      <th>length</th>\n",
       "      <th>width</th>\n",
       "      <th>height</th>\n",
       "      <th>curb_weight</th>\n",
       "      <th>engine_type</th>\n",
       "      <th>num_of_cylinders</th>\n",
       "      <th>engine_size</th>\n",
       "      <th>fuel_system</th>\n",
       "      <th>compression_ratio</th>\n",
       "      <th>horsepower</th>\n",
       "      <th>city_mpg</th>\n",
       "      <th>highway_mpg</th>\n",
       "      <th>price</th>\n",
       "    </tr>\n",
       "  </thead>\n",
       "  <tbody>\n",
       "    <tr>\n",
       "      <th>0</th>\n",
       "      <td>alfa-romero</td>\n",
       "      <td>gas</td>\n",
       "      <td>two</td>\n",
       "      <td>convertible</td>\n",
       "      <td>rwd</td>\n",
       "      <td>front</td>\n",
       "      <td>88.6</td>\n",
       "      <td>168.8</td>\n",
       "      <td>64.1</td>\n",
       "      <td>48.8</td>\n",
       "      <td>2548</td>\n",
       "      <td>dohc</td>\n",
       "      <td>four</td>\n",
       "      <td>130</td>\n",
       "      <td>mpfi</td>\n",
       "      <td>9.0</td>\n",
       "      <td>111</td>\n",
       "      <td>21</td>\n",
       "      <td>27</td>\n",
       "      <td>13495.0</td>\n",
       "    </tr>\n",
       "    <tr>\n",
       "      <th>1</th>\n",
       "      <td>alfa-romero</td>\n",
       "      <td>gas</td>\n",
       "      <td>two</td>\n",
       "      <td>convertible</td>\n",
       "      <td>rwd</td>\n",
       "      <td>front</td>\n",
       "      <td>88.6</td>\n",
       "      <td>168.8</td>\n",
       "      <td>64.1</td>\n",
       "      <td>48.8</td>\n",
       "      <td>2548</td>\n",
       "      <td>dohc</td>\n",
       "      <td>four</td>\n",
       "      <td>130</td>\n",
       "      <td>mpfi</td>\n",
       "      <td>9.0</td>\n",
       "      <td>111</td>\n",
       "      <td>21</td>\n",
       "      <td>27</td>\n",
       "      <td>16500.0</td>\n",
       "    </tr>\n",
       "    <tr>\n",
       "      <th>2</th>\n",
       "      <td>alfa-romero</td>\n",
       "      <td>gas</td>\n",
       "      <td>two</td>\n",
       "      <td>hatchback</td>\n",
       "      <td>rwd</td>\n",
       "      <td>front</td>\n",
       "      <td>94.5</td>\n",
       "      <td>171.2</td>\n",
       "      <td>65.5</td>\n",
       "      <td>52.4</td>\n",
       "      <td>2823</td>\n",
       "      <td>ohcv</td>\n",
       "      <td>six</td>\n",
       "      <td>152</td>\n",
       "      <td>mpfi</td>\n",
       "      <td>9.0</td>\n",
       "      <td>154</td>\n",
       "      <td>19</td>\n",
       "      <td>26</td>\n",
       "      <td>16500.0</td>\n",
       "    </tr>\n",
       "    <tr>\n",
       "      <th>3</th>\n",
       "      <td>audi</td>\n",
       "      <td>gas</td>\n",
       "      <td>four</td>\n",
       "      <td>sedan</td>\n",
       "      <td>fwd</td>\n",
       "      <td>front</td>\n",
       "      <td>99.8</td>\n",
       "      <td>176.6</td>\n",
       "      <td>66.2</td>\n",
       "      <td>54.3</td>\n",
       "      <td>2337</td>\n",
       "      <td>ohc</td>\n",
       "      <td>four</td>\n",
       "      <td>109</td>\n",
       "      <td>mpfi</td>\n",
       "      <td>70.0</td>\n",
       "      <td>102</td>\n",
       "      <td>24</td>\n",
       "      <td>30</td>\n",
       "      <td>13950.0</td>\n",
       "    </tr>\n",
       "    <tr>\n",
       "      <th>4</th>\n",
       "      <td>audi</td>\n",
       "      <td>gas</td>\n",
       "      <td>four</td>\n",
       "      <td>sedan</td>\n",
       "      <td>4wd</td>\n",
       "      <td>front</td>\n",
       "      <td>99.4</td>\n",
       "      <td>176.6</td>\n",
       "      <td>66.4</td>\n",
       "      <td>54.3</td>\n",
       "      <td>2824</td>\n",
       "      <td>ohc</td>\n",
       "      <td>five</td>\n",
       "      <td>136</td>\n",
       "      <td>mpfi</td>\n",
       "      <td>8.0</td>\n",
       "      <td>115</td>\n",
       "      <td>18</td>\n",
       "      <td>22</td>\n",
       "      <td>17450.0</td>\n",
       "    </tr>\n",
       "  </tbody>\n",
       "</table>\n",
       "</div>"
      ],
      "text/plain": [
       "          make fuel_type num_of_doors   body_style drive_wheels  \\\n",
       "0  alfa-romero       gas          two  convertible          rwd   \n",
       "1  alfa-romero       gas          two  convertible          rwd   \n",
       "2  alfa-romero       gas          two    hatchback          rwd   \n",
       "3         audi       gas         four        sedan          fwd   \n",
       "4         audi       gas         four        sedan         4wd    \n",
       "\n",
       "  engine_location  wheel_base  length  width  height  curb_weight engine_type  \\\n",
       "0           front        88.6   168.8   64.1    48.8         2548        dohc   \n",
       "1           front        88.6   168.8   64.1    48.8         2548        dohc   \n",
       "2           front        94.5   171.2   65.5    52.4         2823        ohcv   \n",
       "3           front        99.8   176.6   66.2    54.3         2337         ohc   \n",
       "4           front        99.4   176.6   66.4    54.3         2824         ohc   \n",
       "\n",
       "  num_of_cylinders  engine_size fuel_system  compression_ratio  horsepower  \\\n",
       "0             four          130        mpfi                9.0         111   \n",
       "1             four          130        mpfi                9.0         111   \n",
       "2              six          152        mpfi                9.0         154   \n",
       "3             four          109        mpfi               70.0         102   \n",
       "4             five          136        mpfi                8.0         115   \n",
       "\n",
       "   city_mpg  highway_mpg    price  \n",
       "0        21           27  13495.0  \n",
       "1        21           27  16500.0  \n",
       "2        19           26  16500.0  \n",
       "3        24           30  13950.0  \n",
       "4        18           22  17450.0  "
      ]
     },
     "execution_count": 29,
     "metadata": {},
     "output_type": "execute_result"
    }
   ],
   "source": [
    "# Let's view our dataset again to see the categorical features that will be visualized\n",
    "\n",
    "Car_data.head()"
   ]
  },
  {
   "cell_type": "code",
   "execution_count": 30,
   "id": "b2d4a14a",
   "metadata": {},
   "outputs": [
    {
     "data": {
      "text/plain": [
       "toyota           32\n",
       "nissan           18\n",
       "mazda            16\n",
       "honda            13\n",
       "mitsubishi       13\n",
       "subaru           12\n",
       "volkswagen       12\n",
       "peugot           11\n",
       "volvo            11\n",
       "mercedes-benz     8\n",
       "dodge             8\n",
       "bmw               8\n",
       "audi              7\n",
       "plymouth          7\n",
       "saab              6\n",
       "porsche           5\n",
       "isuzu             4\n",
       "alfa-romero       3\n",
       "jaguar            3\n",
       "chevrolet         3\n",
       "mercury           1\n",
       "Name: make, dtype: int64"
      ]
     },
     "execution_count": 30,
     "metadata": {},
     "output_type": "execute_result"
    }
   ],
   "source": [
    "# Let's see the values in the make column\n",
    "\n",
    "Car_data['make'].value_counts()"
   ]
  },
  {
   "cell_type": "code",
   "execution_count": 31,
   "id": "419a064d",
   "metadata": {},
   "outputs": [
    {
     "data": {
      "image/png": "[encoded data removed]",
      "text/plain": [
       "<Figure size 2160x720 with 1 Axes>"
      ]
     },
     "metadata": {},
     "output_type": "display_data"
    }
   ],
   "source": [
    "# Let's now visualize the make column\n",
    "\n",
    "plt.figure(figsize = (30,10))\n",
    "sns.countplot(x = 'make', data = Car_data)\n",
    "plt.show()"
   ]
  },
  {
   "cell_type": "markdown",
   "id": "9279ceaa",
   "metadata": {},
   "source": [
    "### From this chart, we can see that Toyota is the most occuring car make, followed by nissan and mazda."
   ]
  },
  {
   "cell_type": "code",
   "execution_count": 32,
   "id": "950ace37",
   "metadata": {},
   "outputs": [
    {
     "data": {
      "text/plain": [
       "gas       182\n",
       "diesel     19\n",
       "Name: fuel_type, dtype: int64"
      ]
     },
     "execution_count": 32,
     "metadata": {},
     "output_type": "execute_result"
    }
   ],
   "source": [
    "# Let's see the values in the fuel_type column\n",
    "\n",
    "Car_data['fuel_type'].value_counts()"
   ]
  },
  {
   "cell_type": "code",
   "execution_count": 33,
   "id": "361918df",
   "metadata": {},
   "outputs": [
    {
     "data": {
      "image/png": "[encoded data removed]",
      "text/plain": [
       "<Figure size 576x432 with 1 Axes>"
      ]
     },
     "metadata": {},
     "output_type": "display_data"
    }
   ],
   "source": [
    "# Let's now visualize the fuel_type column\n",
    "\n",
    "plt.figure(figsize = (8,6))\n",
    "sns.countplot(x = 'fuel_type', data = Car_data)\n",
    "plt.show()"
   ]
  },
  {
   "cell_type": "markdown",
   "id": "dcce4b2c",
   "metadata": {},
   "source": [
    "### Gas is the most occuring fuel_type from this chart."
   ]
  },
  {
   "cell_type": "code",
   "execution_count": 34,
   "id": "c79d2780",
   "metadata": {},
   "outputs": [
    {
     "data": {
      "text/plain": [
       "four    113\n",
       "two      88\n",
       "Name: num_of_doors, dtype: int64"
      ]
     },
     "execution_count": 34,
     "metadata": {},
     "output_type": "execute_result"
    }
   ],
   "source": [
    "# Let's see the values in the num_of_doors column\n",
    "\n",
    "Car_data['num_of_doors'].value_counts()"
   ]
  },
  {
   "cell_type": "code",
   "execution_count": 35,
   "id": "3756216b",
   "metadata": {},
   "outputs": [
    {
     "data": {
      "image/png": "[encoded data removed]",
      "text/plain": [
       "<Figure size 576x432 with 1 Axes>"
      ]
     },
     "metadata": {},
     "output_type": "display_data"
    }
   ],
   "source": [
    "# Let's now visualize the num_of_doors column\n",
    "\n",
    "plt.figure(figsize = (8,6))\n",
    "sns.countplot(x = 'num_of_doors', data = Car_data)\n",
    "plt.show()"
   ]
  },
  {
   "cell_type": "markdown",
   "id": "4725d20a",
   "metadata": {},
   "source": [
    "### From the chart, the most occurring num_of_doors is four."
   ]
  },
  {
   "cell_type": "code",
   "execution_count": 37,
   "id": "1e687a0a",
   "metadata": {},
   "outputs": [
    {
     "data": {
      "text/plain": [
       "sedan          94\n",
       "hatchback      69\n",
       "wagon          24\n",
       "hardtop         8\n",
       "convertible     6\n",
       "Name: body_style, dtype: int64"
      ]
     },
     "execution_count": 37,
     "metadata": {},
     "output_type": "execute_result"
    }
   ],
   "source": [
    "# Let's see the values in the body_style column\n",
    "\n",
    "Car_data['body_style'].value_counts()"
   ]
  },
  {
   "cell_type": "code",
   "execution_count": 38,
   "id": "304a30c1",
   "metadata": {},
   "outputs": [
    {
     "data": {
      "image/png": "[encoded data removed]",
      "text/plain": [
       "<Figure size 720x576 with 1 Axes>"
      ]
     },
     "metadata": {},
     "output_type": "display_data"
    }
   ],
   "source": [
    "# Let's now visualize the body_style column\n",
    "\n",
    "plt.figure(figsize = (10,8))\n",
    "sns.countplot(x = 'body_style', data = Car_data)\n",
    "plt.show()"
   ]
  },
  {
   "cell_type": "markdown",
   "id": "88996ec9",
   "metadata": {},
   "source": [
    "### Sedan is the most occuring body_style in this chart. Followed by hatchback and wagon."
   ]
  },
  {
   "cell_type": "code",
   "execution_count": 39,
   "id": "26e2a268",
   "metadata": {},
   "outputs": [
    {
     "data": {
      "text/plain": [
       "fwd     116\n",
       "rwd      76\n",
       "4wd       5\n",
       "4wd       4\n",
       "Name: drive_wheels, dtype: int64"
      ]
     },
     "execution_count": 39,
     "metadata": {},
     "output_type": "execute_result"
    }
   ],
   "source": [
    "# Let's see the values in the drive_wheels column\n",
    "\n",
    "Car_data['drive_wheels'].value_counts()"
   ]
  },
  {
   "cell_type": "code",
   "execution_count": 40,
   "id": "6b892b94",
   "metadata": {},
   "outputs": [
    {
     "data": {
      "image/png": "[encoded data removed]",
      "text/plain": [
       "<Figure size 720x576 with 1 Axes>"
      ]
     },
     "metadata": {},
     "output_type": "display_data"
    }
   ],
   "source": [
    "# Let's now visualize drive_wheels column\n",
    "\n",
    "plt.figure(figsize = (10,8))\n",
    "sns.countplot(x = 'drive_wheels', data = Car_data)\n",
    "plt.show()"
   ]
  },
  {
   "cell_type": "markdown",
   "id": "6400928c",
   "metadata": {},
   "source": [
    "### From this chart, it is clearly seen that fwd is the most occuring drive_wheels values."
   ]
  },
  {
   "cell_type": "code",
   "execution_count": 41,
   "id": "5c435bfd",
   "metadata": {},
   "outputs": [
    {
     "data": {
      "text/plain": [
       "front    198\n",
       "rear       3\n",
       "Name: engine_location, dtype: int64"
      ]
     },
     "execution_count": 41,
     "metadata": {},
     "output_type": "execute_result"
    }
   ],
   "source": [
    "# Let's see the values in the engine_location column\n",
    "\n",
    "Car_data['engine_location'].value_counts()"
   ]
  },
  {
   "cell_type": "code",
   "execution_count": 42,
   "id": "feb1d434",
   "metadata": {},
   "outputs": [
    {
     "data": {
      "image/png": "[encoded data removed]",
      "text/plain": [
       "<Figure size 576x432 with 1 Axes>"
      ]
     },
     "metadata": {},
     "output_type": "display_data"
    }
   ],
   "source": [
    "# Let's now visualize engine_location column\n",
    "\n",
    "plt.figure(figsize = (8,6))\n",
    "sns.countplot(x = 'engine_location', data = Car_data)\n",
    "plt.show()"
   ]
  },
  {
   "cell_type": "markdown",
   "id": "75bb8182",
   "metadata": {},
   "source": [
    "### Front is the most occuring value in the engine_location from this chart."
   ]
  },
  {
   "cell_type": "code",
   "execution_count": 43,
   "id": "c6ff0b04",
   "metadata": {},
   "outputs": [
    {
     "data": {
      "text/plain": [
       "ohc      144\n",
       "ohcf      15\n",
       "ohcv      13\n",
       "dohc      12\n",
       "l         12\n",
       "rotor      4\n",
       "dohcv      1\n",
       "Name: engine_type, dtype: int64"
      ]
     },
     "execution_count": 43,
     "metadata": {},
     "output_type": "execute_result"
    }
   ],
   "source": [
    "# Let's see the values in the engine_type column\n",
    "\n",
    "Car_data['engine_type'].value_counts()"
   ]
  },
  {
   "cell_type": "code",
   "execution_count": 44,
   "id": "16f228df",
   "metadata": {},
   "outputs": [
    {
     "data": {
      "image/png": "[encoded data removed]",
      "text/plain": [
       "<Figure size 720x576 with 1 Axes>"
      ]
     },
     "metadata": {},
     "output_type": "display_data"
    }
   ],
   "source": [
    "# Let's now visualize engine_type column\n",
    "\n",
    "plt.figure(figsize = (10,8))\n",
    "sns.countplot(x = 'engine_type', data = Car_data)\n",
    "plt.show()"
   ]
  },
  {
   "cell_type": "markdown",
   "id": "21692e45",
   "metadata": {},
   "source": [
    "### ohc in the engine_type value is the most occuring in this chart."
   ]
  },
  {
   "cell_type": "code",
   "execution_count": 45,
   "id": "a1c5534a",
   "metadata": {},
   "outputs": [
    {
     "data": {
      "text/plain": [
       "four      155\n",
       "six        24\n",
       "five       11\n",
       "eight       5\n",
       "two         3\n",
       "three       1\n",
       "twelve      1\n",
       "tow         1\n",
       "Name: num_of_cylinders, dtype: int64"
      ]
     },
     "execution_count": 45,
     "metadata": {},
     "output_type": "execute_result"
    }
   ],
   "source": [
    "# Let's see the values in the num_of_cylinders column\n",
    "\n",
    "Car_data['num_of_cylinders'].value_counts()"
   ]
  },
  {
   "cell_type": "code",
   "execution_count": 46,
   "id": "89e57cfa",
   "metadata": {},
   "outputs": [
    {
     "data": {
      "image/png": "[encoded data removed]",
      "text/plain": [
       "<Figure size 576x432 with 1 Axes>"
      ]
     },
     "metadata": {},
     "output_type": "display_data"
    }
   ],
   "source": [
    "# Let's now visualize num_of_cylinders column\n",
    "\n",
    "plt.figure(figsize = (8,6))\n",
    "sns.countplot(x = 'num_of_cylinders', data = Car_data)\n",
    "plt.show()"
   ]
  },
  {
   "cell_type": "markdown",
   "id": "29803a33",
   "metadata": {},
   "source": [
    "### From this chart, we can see that in the num_of_cylinders values 'four' is the most occuring."
   ]
  },
  {
   "cell_type": "code",
   "execution_count": 47,
   "id": "fc200ef4",
   "metadata": {},
   "outputs": [
    {
     "data": {
      "text/plain": [
       "mpfi    91\n",
       "2bbl    66\n",
       "idi     19\n",
       "1bbl    11\n",
       "spdi     9\n",
       "4bbl     3\n",
       "mfi      1\n",
       "spfi     1\n",
       "Name: fuel_system, dtype: int64"
      ]
     },
     "execution_count": 47,
     "metadata": {},
     "output_type": "execute_result"
    }
   ],
   "source": [
    "# Let's see the values in the fuel_system column\n",
    "\n",
    "Car_data['fuel_system'].value_counts()"
   ]
  },
  {
   "cell_type": "code",
   "execution_count": 48,
   "id": "c11a6b9c",
   "metadata": {},
   "outputs": [
    {
     "data": {
      "image/png": "[encoded data removed]",
      "text/plain": [
       "<Figure size 720x576 with 1 Axes>"
      ]
     },
     "metadata": {},
     "output_type": "display_data"
    }
   ],
   "source": [
    "# Let's now visualize the fuel_system column\n",
    "\n",
    "plt.figure(figsize = (10,8))\n",
    "sns.countplot(x = 'fuel_system', data = Car_data)\n",
    "plt.show()"
   ]
  },
  {
   "cell_type": "markdown",
   "id": "1c9da2e4",
   "metadata": {},
   "source": [
    "### mpfi is the most occuring in the fuel_system values. followed by 2bbl."
   ]
  },
  {
   "cell_type": "code",
   "execution_count": 49,
   "id": "bc94340f",
   "metadata": {},
   "outputs": [
    {
     "data": {
      "text/plain": [
       "Text(0, 0.5, 'Price')"
      ]
     },
     "execution_count": 49,
     "metadata": {},
     "output_type": "execute_result"
    },
    {
     "data": {
      "image/png": "[encoded data removed]",
      "text/plain": [
       "<Figure size 432x288 with 1 Axes>"
      ]
     },
     "metadata": {},
     "output_type": "display_data"
    }
   ],
   "source": [
    "# Let's show the relationship between two variables in our dataset\n",
    "\n",
    "Y = Car_data['price']\n",
    "X = Car_data['engine_size']\n",
    "plt.scatter(X,Y)\n",
    "\n",
    "plt.title('Scatter of Engine size vs Price')\n",
    "\n",
    "plt.xlabel('Engine Size')\n",
    "plt.ylabel('Price')"
   ]
  },
  {
   "cell_type": "code",
   "execution_count": 50,
   "id": "ed85fa55",
   "metadata": {},
   "outputs": [
    {
     "data": {
      "text/plain": [
       "Text(0, 0.5, 'Price')"
      ]
     },
     "execution_count": 50,
     "metadata": {},
     "output_type": "execute_result"
    },
    {
     "data": {
      "image/png": "[encoded data removed]",
      "text/plain": [
       "<Figure size 432x288 with 1 Axes>"
      ]
     },
     "metadata": {},
     "output_type": "display_data"
    }
   ],
   "source": [
    "Y = Car_data['price']\n",
    "X = Car_data['horsepower']\n",
    "plt.scatter(X,Y)\n",
    "\n",
    "plt.title('Scatter of Horsepower vs Price')\n",
    "\n",
    "plt.xlabel('Horsepower')\n",
    "plt.ylabel('Price')"
   ]
  },
  {
   "cell_type": "code",
   "execution_count": 51,
   "id": "330686e5",
   "metadata": {},
   "outputs": [
    {
     "data": {
      "text/plain": [
       "Text(0, 0.5, 'Price')"
      ]
     },
     "execution_count": 51,
     "metadata": {},
     "output_type": "execute_result"
    },
    {
     "data": {
      "image/png": "[encoded data removed]",
      "text/plain": [
       "<Figure size 432x288 with 1 Axes>"
      ]
     },
     "metadata": {},
     "output_type": "display_data"
    }
   ],
   "source": [
    "Y = Car_data['price']\n",
    "X = Car_data['highway_mpg']\n",
    "plt.scatter(X,Y)\n",
    "\n",
    "plt.title('Scatter of Highway_mpg vs Price')\n",
    "\n",
    "plt.xlabel('Highway_mpg')\n",
    "plt.ylabel('Price')"
   ]
  },
  {
   "cell_type": "markdown",
   "id": "56cde35a",
   "metadata": {},
   "source": [
    "### Correlation"
   ]
  },
  {
   "cell_type": "markdown",
   "id": "9d84d33f",
   "metadata": {},
   "source": [
    "### Positive Correlation\n",
    "### Negative Correlation"
   ]
  },
  {
   "cell_type": "code",
   "execution_count": 52,
   "id": "f19efa8e",
   "metadata": {},
   "outputs": [],
   "source": [
    "correlation = Car_data.corr()"
   ]
  },
  {
   "cell_type": "code",
   "execution_count": 53,
   "id": "d0fe5efc",
   "metadata": {},
   "outputs": [
    {
     "data": {
      "image/png": "[encoded data removed]",
      "text/plain": [
       "<Figure size 864x576 with 2 Axes>"
      ]
     },
     "metadata": {},
     "output_type": "display_data"
    }
   ],
   "source": [
    "# Let's construct a heatmap to understand the correlation\n",
    "\n",
    "plt.figure(figsize = (12,8))\n",
    "sns.heatmap(Car_data.corr(), annot = True)\n",
    "plt.title('Correlation between the columns')\n",
    "plt.show()"
   ]
  },
  {
   "cell_type": "code",
   "execution_count": 54,
   "id": "3eea0918",
   "metadata": {},
   "outputs": [
    {
     "name": "stdout",
     "output_type": "stream",
     "text": [
      "wheel_base           0.577310\n",
      "length               0.688743\n",
      "width                0.697939\n",
      "height               0.156749\n",
      "curb_weight          0.799902\n",
      "engine_size          0.839150\n",
      "compression_ratio    0.061156\n",
      "horsepower           0.705061\n",
      "city_mpg            -0.665784\n",
      "highway_mpg         -0.691428\n",
      "price                1.000000\n",
      "Name: price, dtype: float64\n"
     ]
    }
   ],
   "source": [
    "# Let's get the correlation values of price\n",
    "\n",
    "print(correlation['price'])"
   ]
  },
  {
   "cell_type": "markdown",
   "id": "7417cd87",
   "metadata": {},
   "source": [
    "### As seen, city_mpg and highway_mpg are negatively correlated with each other"
   ]
  },
  {
   "cell_type": "code",
   "execution_count": 55,
   "id": "ef2f3a87",
   "metadata": {},
   "outputs": [
    {
     "data": {
      "text/plain": [
       "<seaborn.axisgrid.FacetGrid at 0x24b1796da90>"
      ]
     },
     "execution_count": 55,
     "metadata": {},
     "output_type": "execute_result"
    },
    {
     "data": {
      "image/png": "[encoded data removed]",
      "text/plain": [
       "<Figure size 360x360 with 1 Axes>"
      ]
     },
     "metadata": {},
     "output_type": "display_data"
    }
   ],
   "source": [
    "# Let's check the distribution of price\n",
    "\n",
    "sns.displot(Car_data['price'], color = 'blue')"
   ]
  },
  {
   "cell_type": "markdown",
   "id": "0066f1dc",
   "metadata": {},
   "source": [
    "### We can see that we have more values in 10000 range"
   ]
  },
  {
   "cell_type": "markdown",
   "id": "c9b96b19",
   "metadata": {},
   "source": [
    "### Data Preprocessing"
   ]
  },
  {
   "cell_type": "code",
   "execution_count": 56,
   "id": "a9864a2d",
   "metadata": {},
   "outputs": [
    {
     "data": {
      "text/html": [
       "<div>\n",
       "<style scoped>\n",
       "    .dataframe tbody tr th:only-of-type {\n",
       "        vertical-align: middle;\n",
       "    }\n",
       "\n",
       "    .dataframe tbody tr th {\n",
       "        vertical-align: top;\n",
       "    }\n",
       "\n",
       "    .dataframe thead th {\n",
       "        text-align: right;\n",
       "    }\n",
       "</style>\n",
       "<table border=\"1\" class=\"dataframe\">\n",
       "  <thead>\n",
       "    <tr style=\"text-align: right;\">\n",
       "      <th></th>\n",
       "      <th>make</th>\n",
       "      <th>fuel_type</th>\n",
       "      <th>num_of_doors</th>\n",
       "      <th>body_style</th>\n",
       "      <th>drive_wheels</th>\n",
       "      <th>engine_location</th>\n",
       "      <th>wheel_base</th>\n",
       "      <th>length</th>\n",
       "      <th>width</th>\n",
       "      <th>height</th>\n",
       "      <th>curb_weight</th>\n",
       "      <th>engine_type</th>\n",
       "      <th>num_of_cylinders</th>\n",
       "      <th>engine_size</th>\n",
       "      <th>fuel_system</th>\n",
       "      <th>compression_ratio</th>\n",
       "      <th>horsepower</th>\n",
       "      <th>city_mpg</th>\n",
       "      <th>highway_mpg</th>\n",
       "      <th>price</th>\n",
       "    </tr>\n",
       "  </thead>\n",
       "  <tbody>\n",
       "    <tr>\n",
       "      <th>0</th>\n",
       "      <td>alfa-romero</td>\n",
       "      <td>gas</td>\n",
       "      <td>two</td>\n",
       "      <td>convertible</td>\n",
       "      <td>rwd</td>\n",
       "      <td>front</td>\n",
       "      <td>88.6</td>\n",
       "      <td>168.8</td>\n",
       "      <td>64.1</td>\n",
       "      <td>48.8</td>\n",
       "      <td>2548</td>\n",
       "      <td>dohc</td>\n",
       "      <td>four</td>\n",
       "      <td>130</td>\n",
       "      <td>mpfi</td>\n",
       "      <td>9.0</td>\n",
       "      <td>111</td>\n",
       "      <td>21</td>\n",
       "      <td>27</td>\n",
       "      <td>13495.0</td>\n",
       "    </tr>\n",
       "    <tr>\n",
       "      <th>1</th>\n",
       "      <td>alfa-romero</td>\n",
       "      <td>gas</td>\n",
       "      <td>two</td>\n",
       "      <td>convertible</td>\n",
       "      <td>rwd</td>\n",
       "      <td>front</td>\n",
       "      <td>88.6</td>\n",
       "      <td>168.8</td>\n",
       "      <td>64.1</td>\n",
       "      <td>48.8</td>\n",
       "      <td>2548</td>\n",
       "      <td>dohc</td>\n",
       "      <td>four</td>\n",
       "      <td>130</td>\n",
       "      <td>mpfi</td>\n",
       "      <td>9.0</td>\n",
       "      <td>111</td>\n",
       "      <td>21</td>\n",
       "      <td>27</td>\n",
       "      <td>16500.0</td>\n",
       "    </tr>\n",
       "    <tr>\n",
       "      <th>2</th>\n",
       "      <td>alfa-romero</td>\n",
       "      <td>gas</td>\n",
       "      <td>two</td>\n",
       "      <td>hatchback</td>\n",
       "      <td>rwd</td>\n",
       "      <td>front</td>\n",
       "      <td>94.5</td>\n",
       "      <td>171.2</td>\n",
       "      <td>65.5</td>\n",
       "      <td>52.4</td>\n",
       "      <td>2823</td>\n",
       "      <td>ohcv</td>\n",
       "      <td>six</td>\n",
       "      <td>152</td>\n",
       "      <td>mpfi</td>\n",
       "      <td>9.0</td>\n",
       "      <td>154</td>\n",
       "      <td>19</td>\n",
       "      <td>26</td>\n",
       "      <td>16500.0</td>\n",
       "    </tr>\n",
       "    <tr>\n",
       "      <th>3</th>\n",
       "      <td>audi</td>\n",
       "      <td>gas</td>\n",
       "      <td>four</td>\n",
       "      <td>sedan</td>\n",
       "      <td>fwd</td>\n",
       "      <td>front</td>\n",
       "      <td>99.8</td>\n",
       "      <td>176.6</td>\n",
       "      <td>66.2</td>\n",
       "      <td>54.3</td>\n",
       "      <td>2337</td>\n",
       "      <td>ohc</td>\n",
       "      <td>four</td>\n",
       "      <td>109</td>\n",
       "      <td>mpfi</td>\n",
       "      <td>70.0</td>\n",
       "      <td>102</td>\n",
       "      <td>24</td>\n",
       "      <td>30</td>\n",
       "      <td>13950.0</td>\n",
       "    </tr>\n",
       "    <tr>\n",
       "      <th>4</th>\n",
       "      <td>audi</td>\n",
       "      <td>gas</td>\n",
       "      <td>four</td>\n",
       "      <td>sedan</td>\n",
       "      <td>4wd</td>\n",
       "      <td>front</td>\n",
       "      <td>99.4</td>\n",
       "      <td>176.6</td>\n",
       "      <td>66.4</td>\n",
       "      <td>54.3</td>\n",
       "      <td>2824</td>\n",
       "      <td>ohc</td>\n",
       "      <td>five</td>\n",
       "      <td>136</td>\n",
       "      <td>mpfi</td>\n",
       "      <td>8.0</td>\n",
       "      <td>115</td>\n",
       "      <td>18</td>\n",
       "      <td>22</td>\n",
       "      <td>17450.0</td>\n",
       "    </tr>\n",
       "  </tbody>\n",
       "</table>\n",
       "</div>"
      ],
      "text/plain": [
       "          make fuel_type num_of_doors   body_style drive_wheels  \\\n",
       "0  alfa-romero       gas          two  convertible          rwd   \n",
       "1  alfa-romero       gas          two  convertible          rwd   \n",
       "2  alfa-romero       gas          two    hatchback          rwd   \n",
       "3         audi       gas         four        sedan          fwd   \n",
       "4         audi       gas         four        sedan         4wd    \n",
       "\n",
       "  engine_location  wheel_base  length  width  height  curb_weight engine_type  \\\n",
       "0           front        88.6   168.8   64.1    48.8         2548        dohc   \n",
       "1           front        88.6   168.8   64.1    48.8         2548        dohc   \n",
       "2           front        94.5   171.2   65.5    52.4         2823        ohcv   \n",
       "3           front        99.8   176.6   66.2    54.3         2337         ohc   \n",
       "4           front        99.4   176.6   66.4    54.3         2824         ohc   \n",
       "\n",
       "  num_of_cylinders  engine_size fuel_system  compression_ratio  horsepower  \\\n",
       "0             four          130        mpfi                9.0         111   \n",
       "1             four          130        mpfi                9.0         111   \n",
       "2              six          152        mpfi                9.0         154   \n",
       "3             four          109        mpfi               70.0         102   \n",
       "4             five          136        mpfi                8.0         115   \n",
       "\n",
       "   city_mpg  highway_mpg    price  \n",
       "0        21           27  13495.0  \n",
       "1        21           27  16500.0  \n",
       "2        19           26  16500.0  \n",
       "3        24           30  13950.0  \n",
       "4        18           22  17450.0  "
      ]
     },
     "execution_count": 56,
     "metadata": {},
     "output_type": "execute_result"
    }
   ],
   "source": [
    "# Let's view our dataset\n",
    "\n",
    "Car_data.head()"
   ]
  },
  {
   "cell_type": "markdown",
   "id": "42cb86f7",
   "metadata": {},
   "source": [
    "### Label Encoding. The categorical values will be encoded into numerical values."
   ]
  },
  {
   "cell_type": "code",
   "execution_count": 57,
   "id": "09b8aaba",
   "metadata": {},
   "outputs": [],
   "source": [
    "# Let's encode the fuel_type categorical values\n",
    "\n",
    "Car_data.replace({'fuel_type': {'gas' :0, 'diesel' :1}}, inplace = True)"
   ]
  },
  {
   "cell_type": "code",
   "execution_count": 58,
   "id": "9b318b1e",
   "metadata": {},
   "outputs": [],
   "source": [
    "# Let's encode the num_of doors categorical values\n",
    "\n",
    "Car_data.replace({'num_of_doors': {'two' :0, 'four' :1}}, inplace = True)"
   ]
  },
  {
   "cell_type": "code",
   "execution_count": 59,
   "id": "10e2e9dc",
   "metadata": {},
   "outputs": [],
   "source": [
    "# Let's encode the body_style categorical values\n",
    "\n",
    "Car_data.replace({'body_style' : {'sedan' :0, 'hatchback' :1, 'wagon' :2, 'hardtop' :3, 'convertible' :4,}}, inplace=True)"
   ]
  },
  {
   "cell_type": "code",
   "execution_count": 60,
   "id": "da93a6ce",
   "metadata": {},
   "outputs": [],
   "source": [
    "# Let's encode the drive_wheels categorical values\n",
    "\n",
    "Car_data.replace({'drive_wheels' : {'rwd' :0, 'fwd' :1, '4wd' :2, '4wd' :3,}}, inplace=True)"
   ]
  },
  {
   "cell_type": "code",
   "execution_count": 61,
   "id": "a347adf5",
   "metadata": {},
   "outputs": [],
   "source": [
    "# Let's encode the engine_location categorical values\n",
    "\n",
    "Car_data.replace({'engine_location' : {'front' :0, 'rear' :1,}}, inplace=True)"
   ]
  },
  {
   "cell_type": "code",
   "execution_count": 62,
   "id": "54f35eb7",
   "metadata": {},
   "outputs": [],
   "source": [
    "# Let's encode the num_of_cylinders categorical values\n",
    "\n",
    "Car_data.replace({'num_of_cylinders' : {'four' :0, 'six' :1, 'five' :2, 'eight' :3, 'two' :4, 'three':5,\n",
    "                                       'twelve' :6, 'tow' :7}}, inplace=True)"
   ]
  },
  {
   "cell_type": "code",
   "execution_count": 63,
   "id": "8aac4390",
   "metadata": {},
   "outputs": [],
   "source": [
    "# Let's encode the fuel_system categorical values\n",
    "\n",
    "Car_data.replace({'fuel_system' : {'mpfi' :0, '2bbl' :1, 'idi' :2, '1bbl' :3, 'spdi' :4, '4bbl':5,\n",
    "                                       'mfi' :6, 'spfi' :7}}, inplace=True)\n"
   ]
  },
  {
   "cell_type": "code",
   "execution_count": 64,
   "id": "d1424ab0",
   "metadata": {},
   "outputs": [
    {
     "data": {
      "text/html": [
       "<div>\n",
       "<style scoped>\n",
       "    .dataframe tbody tr th:only-of-type {\n",
       "        vertical-align: middle;\n",
       "    }\n",
       "\n",
       "    .dataframe tbody tr th {\n",
       "        vertical-align: top;\n",
       "    }\n",
       "\n",
       "    .dataframe thead th {\n",
       "        text-align: right;\n",
       "    }\n",
       "</style>\n",
       "<table border=\"1\" class=\"dataframe\">\n",
       "  <thead>\n",
       "    <tr style=\"text-align: right;\">\n",
       "      <th></th>\n",
       "      <th>make</th>\n",
       "      <th>fuel_type</th>\n",
       "      <th>num_of_doors</th>\n",
       "      <th>body_style</th>\n",
       "      <th>drive_wheels</th>\n",
       "      <th>engine_location</th>\n",
       "      <th>wheel_base</th>\n",
       "      <th>length</th>\n",
       "      <th>width</th>\n",
       "      <th>height</th>\n",
       "      <th>curb_weight</th>\n",
       "      <th>engine_type</th>\n",
       "      <th>num_of_cylinders</th>\n",
       "      <th>engine_size</th>\n",
       "      <th>fuel_system</th>\n",
       "      <th>compression_ratio</th>\n",
       "      <th>horsepower</th>\n",
       "      <th>city_mpg</th>\n",
       "      <th>highway_mpg</th>\n",
       "      <th>price</th>\n",
       "    </tr>\n",
       "  </thead>\n",
       "  <tbody>\n",
       "    <tr>\n",
       "      <th>0</th>\n",
       "      <td>alfa-romero</td>\n",
       "      <td>0</td>\n",
       "      <td>0</td>\n",
       "      <td>4</td>\n",
       "      <td>0</td>\n",
       "      <td>0</td>\n",
       "      <td>88.6</td>\n",
       "      <td>168.8</td>\n",
       "      <td>64.1</td>\n",
       "      <td>48.8</td>\n",
       "      <td>2548</td>\n",
       "      <td>dohc</td>\n",
       "      <td>0</td>\n",
       "      <td>130</td>\n",
       "      <td>0</td>\n",
       "      <td>9.0</td>\n",
       "      <td>111</td>\n",
       "      <td>21</td>\n",
       "      <td>27</td>\n",
       "      <td>13495.0</td>\n",
       "    </tr>\n",
       "    <tr>\n",
       "      <th>1</th>\n",
       "      <td>alfa-romero</td>\n",
       "      <td>0</td>\n",
       "      <td>0</td>\n",
       "      <td>4</td>\n",
       "      <td>0</td>\n",
       "      <td>0</td>\n",
       "      <td>88.6</td>\n",
       "      <td>168.8</td>\n",
       "      <td>64.1</td>\n",
       "      <td>48.8</td>\n",
       "      <td>2548</td>\n",
       "      <td>dohc</td>\n",
       "      <td>0</td>\n",
       "      <td>130</td>\n",
       "      <td>0</td>\n",
       "      <td>9.0</td>\n",
       "      <td>111</td>\n",
       "      <td>21</td>\n",
       "      <td>27</td>\n",
       "      <td>16500.0</td>\n",
       "    </tr>\n",
       "    <tr>\n",
       "      <th>2</th>\n",
       "      <td>alfa-romero</td>\n",
       "      <td>0</td>\n",
       "      <td>0</td>\n",
       "      <td>1</td>\n",
       "      <td>0</td>\n",
       "      <td>0</td>\n",
       "      <td>94.5</td>\n",
       "      <td>171.2</td>\n",
       "      <td>65.5</td>\n",
       "      <td>52.4</td>\n",
       "      <td>2823</td>\n",
       "      <td>ohcv</td>\n",
       "      <td>1</td>\n",
       "      <td>152</td>\n",
       "      <td>0</td>\n",
       "      <td>9.0</td>\n",
       "      <td>154</td>\n",
       "      <td>19</td>\n",
       "      <td>26</td>\n",
       "      <td>16500.0</td>\n",
       "    </tr>\n",
       "    <tr>\n",
       "      <th>3</th>\n",
       "      <td>audi</td>\n",
       "      <td>0</td>\n",
       "      <td>1</td>\n",
       "      <td>0</td>\n",
       "      <td>1</td>\n",
       "      <td>0</td>\n",
       "      <td>99.8</td>\n",
       "      <td>176.6</td>\n",
       "      <td>66.2</td>\n",
       "      <td>54.3</td>\n",
       "      <td>2337</td>\n",
       "      <td>ohc</td>\n",
       "      <td>0</td>\n",
       "      <td>109</td>\n",
       "      <td>0</td>\n",
       "      <td>70.0</td>\n",
       "      <td>102</td>\n",
       "      <td>24</td>\n",
       "      <td>30</td>\n",
       "      <td>13950.0</td>\n",
       "    </tr>\n",
       "    <tr>\n",
       "      <th>4</th>\n",
       "      <td>audi</td>\n",
       "      <td>0</td>\n",
       "      <td>1</td>\n",
       "      <td>0</td>\n",
       "      <td>4wd</td>\n",
       "      <td>0</td>\n",
       "      <td>99.4</td>\n",
       "      <td>176.6</td>\n",
       "      <td>66.4</td>\n",
       "      <td>54.3</td>\n",
       "      <td>2824</td>\n",
       "      <td>ohc</td>\n",
       "      <td>2</td>\n",
       "      <td>136</td>\n",
       "      <td>0</td>\n",
       "      <td>8.0</td>\n",
       "      <td>115</td>\n",
       "      <td>18</td>\n",
       "      <td>22</td>\n",
       "      <td>17450.0</td>\n",
       "    </tr>\n",
       "  </tbody>\n",
       "</table>\n",
       "</div>"
      ],
      "text/plain": [
       "          make  fuel_type  num_of_doors  body_style drive_wheels  \\\n",
       "0  alfa-romero          0             0           4            0   \n",
       "1  alfa-romero          0             0           4            0   \n",
       "2  alfa-romero          0             0           1            0   \n",
       "3         audi          0             1           0            1   \n",
       "4         audi          0             1           0         4wd    \n",
       "\n",
       "   engine_location  wheel_base  length  width  height  curb_weight  \\\n",
       "0                0        88.6   168.8   64.1    48.8         2548   \n",
       "1                0        88.6   168.8   64.1    48.8         2548   \n",
       "2                0        94.5   171.2   65.5    52.4         2823   \n",
       "3                0        99.8   176.6   66.2    54.3         2337   \n",
       "4                0        99.4   176.6   66.4    54.3         2824   \n",
       "\n",
       "  engine_type  num_of_cylinders  engine_size  fuel_system  compression_ratio  \\\n",
       "0        dohc                 0          130            0                9.0   \n",
       "1        dohc                 0          130            0                9.0   \n",
       "2        ohcv                 1          152            0                9.0   \n",
       "3         ohc                 0          109            0               70.0   \n",
       "4         ohc                 2          136            0                8.0   \n",
       "\n",
       "   horsepower  city_mpg  highway_mpg    price  \n",
       "0         111        21           27  13495.0  \n",
       "1         111        21           27  16500.0  \n",
       "2         154        19           26  16500.0  \n",
       "3         102        24           30  13950.0  \n",
       "4         115        18           22  17450.0  "
      ]
     },
     "execution_count": 64,
     "metadata": {},
     "output_type": "execute_result"
    }
   ],
   "source": [
    "# Let's check if the categorical values were successfully encoded\n",
    "\n",
    "Car_data.head()"
   ]
  },
  {
   "cell_type": "code",
   "execution_count": 65,
   "id": "e5fa41d2",
   "metadata": {},
   "outputs": [
    {
     "data": {
      "text/html": [
       "<div>\n",
       "<style scoped>\n",
       "    .dataframe tbody tr th:only-of-type {\n",
       "        vertical-align: middle;\n",
       "    }\n",
       "\n",
       "    .dataframe tbody tr th {\n",
       "        vertical-align: top;\n",
       "    }\n",
       "\n",
       "    .dataframe thead th {\n",
       "        text-align: right;\n",
       "    }\n",
       "</style>\n",
       "<table border=\"1\" class=\"dataframe\">\n",
       "  <thead>\n",
       "    <tr style=\"text-align: right;\">\n",
       "      <th></th>\n",
       "      <th>make</th>\n",
       "      <th>fuel_type</th>\n",
       "      <th>num_of_doors</th>\n",
       "      <th>body_style</th>\n",
       "      <th>drive_wheels</th>\n",
       "      <th>engine_location</th>\n",
       "      <th>wheel_base</th>\n",
       "      <th>length</th>\n",
       "      <th>width</th>\n",
       "      <th>height</th>\n",
       "      <th>curb_weight</th>\n",
       "      <th>engine_type</th>\n",
       "      <th>num_of_cylinders</th>\n",
       "      <th>engine_size</th>\n",
       "      <th>fuel_system</th>\n",
       "      <th>compression_ratio</th>\n",
       "      <th>horsepower</th>\n",
       "      <th>city_mpg</th>\n",
       "      <th>highway_mpg</th>\n",
       "      <th>price</th>\n",
       "    </tr>\n",
       "  </thead>\n",
       "  <tbody>\n",
       "    <tr>\n",
       "      <th>198</th>\n",
       "      <td>volvo</td>\n",
       "      <td>0</td>\n",
       "      <td>1</td>\n",
       "      <td>0</td>\n",
       "      <td>0</td>\n",
       "      <td>0</td>\n",
       "      <td>109.1</td>\n",
       "      <td>188.8</td>\n",
       "      <td>68.9</td>\n",
       "      <td>55.5</td>\n",
       "      <td>2952</td>\n",
       "      <td>ohc</td>\n",
       "      <td>0</td>\n",
       "      <td>141</td>\n",
       "      <td>0</td>\n",
       "      <td>9.5</td>\n",
       "      <td>114</td>\n",
       "      <td>23</td>\n",
       "      <td>28</td>\n",
       "      <td>16845.0</td>\n",
       "    </tr>\n",
       "    <tr>\n",
       "      <th>199</th>\n",
       "      <td>volvo</td>\n",
       "      <td>0</td>\n",
       "      <td>1</td>\n",
       "      <td>0</td>\n",
       "      <td>0</td>\n",
       "      <td>0</td>\n",
       "      <td>109.1</td>\n",
       "      <td>188.8</td>\n",
       "      <td>68.8</td>\n",
       "      <td>55.5</td>\n",
       "      <td>3049</td>\n",
       "      <td>ohc</td>\n",
       "      <td>0</td>\n",
       "      <td>141</td>\n",
       "      <td>0</td>\n",
       "      <td>8.7</td>\n",
       "      <td>160</td>\n",
       "      <td>19</td>\n",
       "      <td>25</td>\n",
       "      <td>19045.0</td>\n",
       "    </tr>\n",
       "    <tr>\n",
       "      <th>200</th>\n",
       "      <td>volvo</td>\n",
       "      <td>0</td>\n",
       "      <td>1</td>\n",
       "      <td>0</td>\n",
       "      <td>0</td>\n",
       "      <td>0</td>\n",
       "      <td>109.1</td>\n",
       "      <td>188.8</td>\n",
       "      <td>68.9</td>\n",
       "      <td>55.5</td>\n",
       "      <td>3012</td>\n",
       "      <td>ohcv</td>\n",
       "      <td>1</td>\n",
       "      <td>173</td>\n",
       "      <td>0</td>\n",
       "      <td>8.8</td>\n",
       "      <td>134</td>\n",
       "      <td>18</td>\n",
       "      <td>23</td>\n",
       "      <td>21485.0</td>\n",
       "    </tr>\n",
       "    <tr>\n",
       "      <th>201</th>\n",
       "      <td>volvo</td>\n",
       "      <td>1</td>\n",
       "      <td>1</td>\n",
       "      <td>0</td>\n",
       "      <td>0</td>\n",
       "      <td>0</td>\n",
       "      <td>109.1</td>\n",
       "      <td>188.8</td>\n",
       "      <td>68.9</td>\n",
       "      <td>55.5</td>\n",
       "      <td>3217</td>\n",
       "      <td>ohc</td>\n",
       "      <td>1</td>\n",
       "      <td>145</td>\n",
       "      <td>2</td>\n",
       "      <td>23.0</td>\n",
       "      <td>106</td>\n",
       "      <td>26</td>\n",
       "      <td>27</td>\n",
       "      <td>22470.0</td>\n",
       "    </tr>\n",
       "    <tr>\n",
       "      <th>202</th>\n",
       "      <td>volvo</td>\n",
       "      <td>0</td>\n",
       "      <td>1</td>\n",
       "      <td>0</td>\n",
       "      <td>0</td>\n",
       "      <td>0</td>\n",
       "      <td>109.1</td>\n",
       "      <td>188.8</td>\n",
       "      <td>68.9</td>\n",
       "      <td>55.5</td>\n",
       "      <td>3062</td>\n",
       "      <td>ohc</td>\n",
       "      <td>0</td>\n",
       "      <td>141</td>\n",
       "      <td>0</td>\n",
       "      <td>9.5</td>\n",
       "      <td>114</td>\n",
       "      <td>19</td>\n",
       "      <td>25</td>\n",
       "      <td>22625.0</td>\n",
       "    </tr>\n",
       "  </tbody>\n",
       "</table>\n",
       "</div>"
      ],
      "text/plain": [
       "      make  fuel_type  num_of_doors  body_style drive_wheels  engine_location  \\\n",
       "198  volvo          0             1           0            0                0   \n",
       "199  volvo          0             1           0            0                0   \n",
       "200  volvo          0             1           0            0                0   \n",
       "201  volvo          1             1           0            0                0   \n",
       "202  volvo          0             1           0            0                0   \n",
       "\n",
       "     wheel_base  length  width  height  curb_weight engine_type  \\\n",
       "198       109.1   188.8   68.9    55.5         2952         ohc   \n",
       "199       109.1   188.8   68.8    55.5         3049         ohc   \n",
       "200       109.1   188.8   68.9    55.5         3012        ohcv   \n",
       "201       109.1   188.8   68.9    55.5         3217         ohc   \n",
       "202       109.1   188.8   68.9    55.5         3062         ohc   \n",
       "\n",
       "     num_of_cylinders  engine_size  fuel_system  compression_ratio  \\\n",
       "198                 0          141            0                9.5   \n",
       "199                 0          141            0                8.7   \n",
       "200                 1          173            0                8.8   \n",
       "201                 1          145            2               23.0   \n",
       "202                 0          141            0                9.5   \n",
       "\n",
       "     horsepower  city_mpg  highway_mpg    price  \n",
       "198         114        23           28  16845.0  \n",
       "199         160        19           25  19045.0  \n",
       "200         134        18           23  21485.0  \n",
       "201         106        26           27  22470.0  \n",
       "202         114        19           25  22625.0  "
      ]
     },
     "execution_count": 65,
     "metadata": {},
     "output_type": "execute_result"
    }
   ],
   "source": [
    "# Let's view the last five rows\n",
    "\n",
    "Car_data.tail()"
   ]
  },
  {
   "cell_type": "code",
   "execution_count": 66,
   "id": "e3632bcd",
   "metadata": {},
   "outputs": [],
   "source": [
    "# Let's drop some columns that won't be needed\n",
    "\n",
    "Car_data.drop('drive_wheels', axis = 1, inplace = True)"
   ]
  },
  {
   "cell_type": "code",
   "execution_count": 67,
   "id": "d763d402",
   "metadata": {},
   "outputs": [],
   "source": [
    "Car_data.drop('engine_type', axis = 1, inplace = True)"
   ]
  },
  {
   "cell_type": "code",
   "execution_count": 68,
   "id": "38ae24c0",
   "metadata": {},
   "outputs": [
    {
     "data": {
      "text/html": [
       "<div>\n",
       "<style scoped>\n",
       "    .dataframe tbody tr th:only-of-type {\n",
       "        vertical-align: middle;\n",
       "    }\n",
       "\n",
       "    .dataframe tbody tr th {\n",
       "        vertical-align: top;\n",
       "    }\n",
       "\n",
       "    .dataframe thead th {\n",
       "        text-align: right;\n",
       "    }\n",
       "</style>\n",
       "<table border=\"1\" class=\"dataframe\">\n",
       "  <thead>\n",
       "    <tr style=\"text-align: right;\">\n",
       "      <th></th>\n",
       "      <th>make</th>\n",
       "      <th>fuel_type</th>\n",
       "      <th>num_of_doors</th>\n",
       "      <th>body_style</th>\n",
       "      <th>engine_location</th>\n",
       "      <th>wheel_base</th>\n",
       "      <th>length</th>\n",
       "      <th>width</th>\n",
       "      <th>height</th>\n",
       "      <th>curb_weight</th>\n",
       "      <th>num_of_cylinders</th>\n",
       "      <th>engine_size</th>\n",
       "      <th>fuel_system</th>\n",
       "      <th>compression_ratio</th>\n",
       "      <th>horsepower</th>\n",
       "      <th>city_mpg</th>\n",
       "      <th>highway_mpg</th>\n",
       "      <th>price</th>\n",
       "    </tr>\n",
       "  </thead>\n",
       "  <tbody>\n",
       "    <tr>\n",
       "      <th>0</th>\n",
       "      <td>alfa-romero</td>\n",
       "      <td>0</td>\n",
       "      <td>0</td>\n",
       "      <td>4</td>\n",
       "      <td>0</td>\n",
       "      <td>88.6</td>\n",
       "      <td>168.8</td>\n",
       "      <td>64.1</td>\n",
       "      <td>48.8</td>\n",
       "      <td>2548</td>\n",
       "      <td>0</td>\n",
       "      <td>130</td>\n",
       "      <td>0</td>\n",
       "      <td>9.0</td>\n",
       "      <td>111</td>\n",
       "      <td>21</td>\n",
       "      <td>27</td>\n",
       "      <td>13495.0</td>\n",
       "    </tr>\n",
       "    <tr>\n",
       "      <th>1</th>\n",
       "      <td>alfa-romero</td>\n",
       "      <td>0</td>\n",
       "      <td>0</td>\n",
       "      <td>4</td>\n",
       "      <td>0</td>\n",
       "      <td>88.6</td>\n",
       "      <td>168.8</td>\n",
       "      <td>64.1</td>\n",
       "      <td>48.8</td>\n",
       "      <td>2548</td>\n",
       "      <td>0</td>\n",
       "      <td>130</td>\n",
       "      <td>0</td>\n",
       "      <td>9.0</td>\n",
       "      <td>111</td>\n",
       "      <td>21</td>\n",
       "      <td>27</td>\n",
       "      <td>16500.0</td>\n",
       "    </tr>\n",
       "    <tr>\n",
       "      <th>2</th>\n",
       "      <td>alfa-romero</td>\n",
       "      <td>0</td>\n",
       "      <td>0</td>\n",
       "      <td>1</td>\n",
       "      <td>0</td>\n",
       "      <td>94.5</td>\n",
       "      <td>171.2</td>\n",
       "      <td>65.5</td>\n",
       "      <td>52.4</td>\n",
       "      <td>2823</td>\n",
       "      <td>1</td>\n",
       "      <td>152</td>\n",
       "      <td>0</td>\n",
       "      <td>9.0</td>\n",
       "      <td>154</td>\n",
       "      <td>19</td>\n",
       "      <td>26</td>\n",
       "      <td>16500.0</td>\n",
       "    </tr>\n",
       "    <tr>\n",
       "      <th>3</th>\n",
       "      <td>audi</td>\n",
       "      <td>0</td>\n",
       "      <td>1</td>\n",
       "      <td>0</td>\n",
       "      <td>0</td>\n",
       "      <td>99.8</td>\n",
       "      <td>176.6</td>\n",
       "      <td>66.2</td>\n",
       "      <td>54.3</td>\n",
       "      <td>2337</td>\n",
       "      <td>0</td>\n",
       "      <td>109</td>\n",
       "      <td>0</td>\n",
       "      <td>70.0</td>\n",
       "      <td>102</td>\n",
       "      <td>24</td>\n",
       "      <td>30</td>\n",
       "      <td>13950.0</td>\n",
       "    </tr>\n",
       "    <tr>\n",
       "      <th>4</th>\n",
       "      <td>audi</td>\n",
       "      <td>0</td>\n",
       "      <td>1</td>\n",
       "      <td>0</td>\n",
       "      <td>0</td>\n",
       "      <td>99.4</td>\n",
       "      <td>176.6</td>\n",
       "      <td>66.4</td>\n",
       "      <td>54.3</td>\n",
       "      <td>2824</td>\n",
       "      <td>2</td>\n",
       "      <td>136</td>\n",
       "      <td>0</td>\n",
       "      <td>8.0</td>\n",
       "      <td>115</td>\n",
       "      <td>18</td>\n",
       "      <td>22</td>\n",
       "      <td>17450.0</td>\n",
       "    </tr>\n",
       "  </tbody>\n",
       "</table>\n",
       "</div>"
      ],
      "text/plain": [
       "          make  fuel_type  num_of_doors  body_style  engine_location  \\\n",
       "0  alfa-romero          0             0           4                0   \n",
       "1  alfa-romero          0             0           4                0   \n",
       "2  alfa-romero          0             0           1                0   \n",
       "3         audi          0             1           0                0   \n",
       "4         audi          0             1           0                0   \n",
       "\n",
       "   wheel_base  length  width  height  curb_weight  num_of_cylinders  \\\n",
       "0        88.6   168.8   64.1    48.8         2548                 0   \n",
       "1        88.6   168.8   64.1    48.8         2548                 0   \n",
       "2        94.5   171.2   65.5    52.4         2823                 1   \n",
       "3        99.8   176.6   66.2    54.3         2337                 0   \n",
       "4        99.4   176.6   66.4    54.3         2824                 2   \n",
       "\n",
       "   engine_size  fuel_system  compression_ratio  horsepower  city_mpg  \\\n",
       "0          130            0                9.0         111        21   \n",
       "1          130            0                9.0         111        21   \n",
       "2          152            0                9.0         154        19   \n",
       "3          109            0               70.0         102        24   \n",
       "4          136            0                8.0         115        18   \n",
       "\n",
       "   highway_mpg    price  \n",
       "0           27  13495.0  \n",
       "1           27  16500.0  \n",
       "2           26  16500.0  \n",
       "3           30  13950.0  \n",
       "4           22  17450.0  "
      ]
     },
     "execution_count": 68,
     "metadata": {},
     "output_type": "execute_result"
    }
   ],
   "source": [
    "# Let's check if the columns were successfully dropped\n",
    "\n",
    "Car_data.head()"
   ]
  },
  {
   "cell_type": "markdown",
   "id": "093e008c",
   "metadata": {},
   "source": [
    "### Splitting the data and target"
   ]
  },
  {
   "cell_type": "code",
   "execution_count": 69,
   "id": "421e513b",
   "metadata": {},
   "outputs": [],
   "source": [
    "# We will now split the data and the target values\n",
    "\n",
    "X = Car_data.drop(['make', 'price'], axis = 1)\n",
    "Y = Car_data['price']"
   ]
  },
  {
   "cell_type": "code",
   "execution_count": 70,
   "id": "ae49c87b",
   "metadata": {},
   "outputs": [
    {
     "name": "stdout",
     "output_type": "stream",
     "text": [
      "     fuel_type  num_of_doors  body_style  engine_location  wheel_base  length  \\\n",
      "0            0             0           4                0        88.6   168.8   \n",
      "1            0             0           4                0        88.6   168.8   \n",
      "2            0             0           1                0        94.5   171.2   \n",
      "3            0             1           0                0        99.8   176.6   \n",
      "4            0             1           0                0        99.4   176.6   \n",
      "..         ...           ...         ...              ...         ...     ...   \n",
      "198          0             1           0                0       109.1   188.8   \n",
      "199          0             1           0                0       109.1   188.8   \n",
      "200          0             1           0                0       109.1   188.8   \n",
      "201          1             1           0                0       109.1   188.8   \n",
      "202          0             1           0                0       109.1   188.8   \n",
      "\n",
      "     width  height  curb_weight  num_of_cylinders  engine_size  fuel_system  \\\n",
      "0     64.1    48.8         2548                 0          130            0   \n",
      "1     64.1    48.8         2548                 0          130            0   \n",
      "2     65.5    52.4         2823                 1          152            0   \n",
      "3     66.2    54.3         2337                 0          109            0   \n",
      "4     66.4    54.3         2824                 2          136            0   \n",
      "..     ...     ...          ...               ...          ...          ...   \n",
      "198   68.9    55.5         2952                 0          141            0   \n",
      "199   68.8    55.5         3049                 0          141            0   \n",
      "200   68.9    55.5         3012                 1          173            0   \n",
      "201   68.9    55.5         3217                 1          145            2   \n",
      "202   68.9    55.5         3062                 0          141            0   \n",
      "\n",
      "     compression_ratio  horsepower  city_mpg  highway_mpg  \n",
      "0                  9.0         111        21           27  \n",
      "1                  9.0         111        21           27  \n",
      "2                  9.0         154        19           26  \n",
      "3                 70.0         102        24           30  \n",
      "4                  8.0         115        18           22  \n",
      "..                 ...         ...       ...          ...  \n",
      "198                9.5         114        23           28  \n",
      "199                8.7         160        19           25  \n",
      "200                8.8         134        18           23  \n",
      "201               23.0         106        26           27  \n",
      "202                9.5         114        19           25  \n",
      "\n",
      "[201 rows x 16 columns]\n"
     ]
    }
   ],
   "source": [
    "# Let's view the X values\n",
    "\n",
    "print(X)"
   ]
  },
  {
   "cell_type": "code",
   "execution_count": 71,
   "id": "8ebe7727",
   "metadata": {},
   "outputs": [
    {
     "name": "stdout",
     "output_type": "stream",
     "text": [
      "0      13495.0\n",
      "1      16500.0\n",
      "2      16500.0\n",
      "3      13950.0\n",
      "4      17450.0\n",
      "        ...   \n",
      "198    16845.0\n",
      "199    19045.0\n",
      "200    21485.0\n",
      "201    22470.0\n",
      "202    22625.0\n",
      "Name: price, Length: 201, dtype: float64\n"
     ]
    }
   ],
   "source": [
    "# Let's equally view the Y value\n",
    "\n",
    "print(Y)"
   ]
  },
  {
   "cell_type": "markdown",
   "id": "a1b3c5dd",
   "metadata": {},
   "source": [
    "### Splitting Training and Test data"
   ]
  },
  {
   "cell_type": "code",
   "execution_count": 72,
   "id": "a765996b",
   "metadata": {},
   "outputs": [],
   "source": [
    "# Let's split the data into training and test train\n",
    "\n",
    "X_train, X_test, Y_train, Y_test = train_test_split(X, Y, test_size = 0.1, random_state = 2)"
   ]
  },
  {
   "cell_type": "code",
   "execution_count": 73,
   "id": "e3343102",
   "metadata": {},
   "outputs": [
    {
     "name": "stdout",
     "output_type": "stream",
     "text": [
      "(201, 16) (180, 16) (21, 16)\n"
     ]
    }
   ],
   "source": [
    "# let's check the shapes of x_train and x_test\n",
    "\n",
    "print(X.shape, X_train.shape, X_test.shape)"
   ]
  },
  {
   "cell_type": "markdown",
   "id": "7f41b401",
   "metadata": {},
   "source": [
    "### Model Training"
   ]
  },
  {
   "cell_type": "code",
   "execution_count": 74,
   "id": "4b8e7257",
   "metadata": {},
   "outputs": [],
   "source": [
    "# Let's import linear regression\n",
    "\n",
    "lin_reg_model = LinearRegression()"
   ]
  },
  {
   "cell_type": "code",
   "execution_count": 75,
   "id": "db48fd76",
   "metadata": {},
   "outputs": [
    {
     "data": {
      "text/plain": [
       "LinearRegression()"
      ]
     },
     "execution_count": 75,
     "metadata": {},
     "output_type": "execute_result"
    }
   ],
   "source": [
    "lin_reg_model.fit(X_train, Y_train)"
   ]
  },
  {
   "cell_type": "markdown",
   "id": "b219e115",
   "metadata": {},
   "source": [
    "### Model Evaluation"
   ]
  },
  {
   "cell_type": "code",
   "execution_count": 76,
   "id": "da65ec93",
   "metadata": {},
   "outputs": [],
   "source": [
    "# Let's predict on the training data\n",
    "\n",
    "training_data_prediction = lin_reg_model.predict(X_train)"
   ]
  },
  {
   "cell_type": "code",
   "execution_count": 77,
   "id": "20681f52",
   "metadata": {},
   "outputs": [
    {
     "name": "stdout",
     "output_type": "stream",
     "text": [
      "R Squared Errror : 0.8184374296449328\n"
     ]
    }
   ],
   "source": [
    "# We will be using R squared error metircs for evaluation\n",
    "\n",
    "error_score = metrics.r2_score(Y_train, training_data_prediction)\n",
    "print('R Squared Errror :', error_score)"
   ]
  },
  {
   "cell_type": "code",
   "execution_count": 78,
   "id": "98d5040d",
   "metadata": {},
   "outputs": [
    {
     "data": {
      "image/png": "[encoded data removed]",
      "text/plain": [
       "<Figure size 432x288 with 1 Axes>"
      ]
     },
     "metadata": {},
     "output_type": "display_data"
    }
   ],
   "source": [
    "# Let's visualize the actual prices and predicted prices\n",
    "\n",
    "plt.scatter(Y_train, training_data_prediction)\n",
    "plt.xlabel('Actual Price')\n",
    "plt.ylabel('Predicted Price')\n",
    "plt.title('Actual Prices vs Predicted Prices')\n",
    "plt.show()"
   ]
  },
  {
   "cell_type": "code",
   "execution_count": 79,
   "id": "b86ddc1c",
   "metadata": {},
   "outputs": [],
   "source": [
    "# Let's predict on the test data\n",
    "\n",
    "test_data_prediction = lin_reg_model.predict(X_test)"
   ]
  },
  {
   "cell_type": "code",
   "execution_count": 80,
   "id": "574b3639",
   "metadata": {},
   "outputs": [
    {
     "name": "stdout",
     "output_type": "stream",
     "text": [
      "R Squared Errror : 0.660331878619842\n"
     ]
    }
   ],
   "source": [
    "# We will be using R squared error metircs for evaluation\n",
    "\n",
    "error_score = metrics.r2_score(Y_test, test_data_prediction)\n",
    "print('R Squared Errror :', error_score)"
   ]
  },
  {
   "cell_type": "code",
   "execution_count": 81,
   "id": "e208b2a5",
   "metadata": {},
   "outputs": [
    {
     "data": {
      "image/png": "[encoded data removed]",
      "text/plain": [
       "<Figure size 432x288 with 1 Axes>"
      ]
     },
     "metadata": {},
     "output_type": "display_data"
    }
   ],
   "source": [
    "# Let's visualize the actual prices and predicted prices\n",
    "\n",
    "plt.scatter(Y_test, test_data_prediction)\n",
    "plt.xlabel('Actual Price')\n",
    "plt.ylabel('Predicted Price')\n",
    "plt.title('Actual Prices vs Predicted Prices')\n",
    "plt.show()"
   ]
  },
  {
   "cell_type": "markdown",
   "id": "306c1348",
   "metadata": {},
   "source": [
    "### Final notes"
   ]
  },
  {
   "cell_type": "markdown",
   "id": "aa69650c",
   "metadata": {},
   "source": [
    "### Our model prediction was a good fit."
   ]
  }
 ],
 "metadata": {
  "kernelspec": {
   "display_name": "Python 3 (ipykernel)",
   "language": "python",
   "name": "python3"
  },
  "language_info": {
   "codemirror_mode": {
    "name": "ipython",
    "version": 3
   },
   "file_extension": ".py",
   "mimetype": "text/x-python",
   "name": "python",
   "nbconvert_exporter": "python",
   "pygments_lexer": "ipython3",
   "version": "3.9.12"
  }
 },
 "nbformat": 4,
 "nbformat_minor": 5
}
